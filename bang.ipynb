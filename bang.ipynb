{
 "cells": [
  {
   "cell_type": "markdown",
   "metadata": {},
   "source": [
    "# O Problema\n",
    "\n",
    "Temos no CEFET MG o grupo Grupo de Computação Competitiva (GCC) que tem como uma de suas atividades a participação na maratona de programação.\n",
    "\n",
    "A maratona de programação é uma competição onde equipes competem entre si em um período de tempo pré determinado a tentar resolver o maior número de problema em menos tempo.\n",
    "\n",
    "O objetivo deste trabalho, é desenvolver um algoritmo de recomendação que ajude no treinamento dos competidores para a preparação para a maratona de programação.\n",
    "\n",
    "Atualmente, o treinamento funciona da seguinte maneira. Existem alguns sites, chamados de juízes online, que funcionam como um repositório de problemas. O competidor então consegue ler o problema, desenvolver uma solução e submete-la para o juiz. O juiz então dará a resposta se a solução foi aceita ou não.\n",
    "\n",
    "O problema do treinamento atual é que existem milhares de problemas a serem resolvidos. Isso faz com que o competidor perca tempo em problemas que não acrescentem em conteúdo para o seu desenvolvimento, ou então, escolha problemas muito difíceis para serem resolvidos, o que torna seu treinamento desmotivador."
   ]
  },
  {
   "cell_type": "markdown",
   "metadata": {},
   "source": [
    "# Introdução\n",
    "\n",
    "Neste capítulo, será descrito em detalhes, a fase de coleta de dados, definição e treinamento do modelo e implementação da solução proposta.\n",
    "\n"
   ]
  },
  {
   "cell_type": "markdown",
   "metadata": {},
   "source": [
    "# Dataset\n",
    "\n",
    "## A fonte\n",
    "\n",
    "A primeira decisão a ser tomada foi na escolha de qual juiz online utilizar como fonte de informações. Algumas considerações foram feitas a fim de decidir o juiz, dentre elas:\n",
    "\n",
    " - O juiz a ser escolhido deve ser frequentemente utilizado pelos alunos do GCC, uma vez que são os principais usuários do sistema.\n",
    " - O juiz deve possuir informações relevantes sobre os problemas em seu repositório, como dificuldade e categoria que será utilizado posteriormente como forma de validação do modelo.\n",
    " - O juiz deve possuir um número quantitativamente relevante para a coleta.\n",
    " - O juiz deve permitir a coleta das informações.\n",
    " \n",
    "Os critérios definidos levaram a escolha do URI Online Judge. O URI é o juiz com mais problemas resolvidos pelos alunos do GCC, como pode ser visto no BANG. Seus problemas possuem nível de dificuldade, categoria, número de usuários únicos que o resolveram e em alguns problemas, é possível obter até o assunto que o problema aborda dentro daquela categoria. No ano de 2017, o URI atingiu a marca de 1656 problemas, 195329 usuários de 170 países e 7956566 submissões, como pode ser visto em (https://www.urionlinejudge.com.br/year-in-numbers/2017/2/). Todas essas informações são públicas e podem ser vistas no próprios site.\n",
    "\n",
    "## As informações\n",
    "\n",
    "Com o juiz definido, o próximo passo foi definir o que e o quanto de informações seriam adquiridas do juiz.\n",
    "\n",
    "No URI, cada usuário possui uma página de perfil que informa quando e quais problemas o usuário resolveu. Cada registro dessa página é conhecido como **solução**. Além dos perfis de usuários, existe também a página de problemas, onde é possível encontrar informações detalhadas de cada problema, como categoria, dificuldade e número usuários que conseguiram resolver o problema.\n",
    "\n",
    "Dessa forma, através das informações dos usuários e a descrição dos problemas, foi possível construir um dataset composto por um conjunto de soluções, onde cada solução é composta por:\n",
    "\n",
    " - **user_id**: usuário que resolveu o problema\n",
    " - **problem_id**: problema que foi resolvido\n",
    " - **date**: data de quando o problema foi resolvido\n",
    " - **category_id**: categoria do problema resolvido\n",
    " - **level**: dificuldade do problema resolvido\n",
    " - **solved**: quantidade total de usuários únicos do juiz que resolveram o problema\n",
    " - **name**: nome do problema\n",
    " - **topics**: assuntos relacionados ao conteúdo do problema\n",
    " \n",
    "Foi então coletado, as informações de todos os usuários que haviam resolvido pelo menos 300 problemas, cerca de 20% do número total de problemas disponíveis no juiz. A coleta resultou em um conjutno de soluções com 618 usuários e 218619 soluções."
   ]
  },
  {
   "cell_type": "code",
   "execution_count": 443,
   "metadata": {},
   "outputs": [],
   "source": [
    "import pandas as pd\n",
    "import numpy as np\n",
    "import matplotlib.pyplot as plt\n",
    "import json\n",
    "from scipy import spatial\n",
    "from sklearn.cluster import KMeans\n",
    "from datetime import datetime\n",
    "from pprint import pprint\n",
    "from mpl_toolkits.mplot3d import Axes3D\n",
    "from IPython.display import clear_output\n",
    "from numpy.random import rand\n",
    "from glob import glob"
   ]
  },
  {
   "cell_type": "markdown",
   "metadata": {},
   "source": [
    "# Configurações"
   ]
  },
  {
   "cell_type": "code",
   "execution_count": 690,
   "metadata": {},
   "outputs": [],
   "source": [
    "# 0 - All\n",
    "# 1 - Beginner\n",
    "# 2 - Ad-Hoc\n",
    "# 3 - String\n",
    "# 4 - Libraries\n",
    "# 5 - Math\n",
    "# 6 - Paradigms\n",
    "# 7 - Graph\n",
    "# 8 - Geometry\n",
    "\n",
    "COLORS = [\n",
    "    '',\n",
    "    '#0F5B78',\n",
    "    '#117899',\n",
    "    '#1496BB',\n",
    "    '#5CA794',\n",
    "    '#A3B86C',\n",
    "    '#EBC944',\n",
    "    '#F26D21',\n",
    "    '#D94E20',\n",
    "    '#C02F1D',\n",
    "]\n",
    "\n",
    "\n",
    "CATEGORY = 5\n",
    "NR_FEATURES = 2\n",
    "NR_EPOCHS = 5\n",
    "NR_ITERATIONS = 500\n",
    "AGGRESSIVITY_RADIUS = 0.02"
   ]
  },
  {
   "cell_type": "code",
   "execution_count": 617,
   "metadata": {},
   "outputs": [],
   "source": [
    "def load_solutions():\n",
    "    solutions_df = pd.read_csv('solutions_uri.csv')\n",
    "    if CATEGORY:\n",
    "        solutions_df = solutions_df.loc[solutions_df['category_id'] == CATEGORY]\n",
    "        solutions_df = solutions_df.loc[solutions_df['solved'] > 100]\n",
    "#         solutions_df = solutions_df.loc[solutions_df['topics'].str.contains('dfs')]\n",
    "    return solutions_df"
   ]
  },
  {
   "cell_type": "markdown",
   "metadata": {},
   "source": [
    "Dataset overview"
   ]
  },
  {
   "cell_type": "code",
   "execution_count": 618,
   "metadata": {},
   "outputs": [
    {
     "data": {
      "text/html": [
       "<div>\n",
       "<style scoped>\n",
       "    .dataframe tbody tr th:only-of-type {\n",
       "        vertical-align: middle;\n",
       "    }\n",
       "\n",
       "    .dataframe tbody tr th {\n",
       "        vertical-align: top;\n",
       "    }\n",
       "\n",
       "    .dataframe thead th {\n",
       "        text-align: right;\n",
       "    }\n",
       "</style>\n",
       "<table border=\"1\" class=\"dataframe\">\n",
       "  <thead>\n",
       "    <tr style=\"text-align: right;\">\n",
       "      <th></th>\n",
       "      <th>user_id</th>\n",
       "      <th>problem_id</th>\n",
       "      <th>date</th>\n",
       "      <th>category_id</th>\n",
       "      <th>level</th>\n",
       "      <th>solved</th>\n",
       "      <th>name</th>\n",
       "      <th>topics</th>\n",
       "    </tr>\n",
       "  </thead>\n",
       "  <tbody>\n",
       "    <tr>\n",
       "      <th>58</th>\n",
       "      <td>40980</td>\n",
       "      <td>1169</td>\n",
       "      <td>15/04/19 03:43</td>\n",
       "      <td>5</td>\n",
       "      <td>1</td>\n",
       "      <td>3595</td>\n",
       "      <td>Grains in a Chess Board</td>\n",
       "      <td>simple math</td>\n",
       "    </tr>\n",
       "    <tr>\n",
       "      <th>75</th>\n",
       "      <td>40980</td>\n",
       "      <td>1233</td>\n",
       "      <td>15/10/06 01:35</td>\n",
       "      <td>5</td>\n",
       "      <td>6</td>\n",
       "      <td>537</td>\n",
       "      <td>Star</td>\n",
       "      <td>math, numbers theory</td>\n",
       "    </tr>\n",
       "    <tr>\n",
       "      <th>76</th>\n",
       "      <td>40980</td>\n",
       "      <td>1989</td>\n",
       "      <td>15/11/28 06:17</td>\n",
       "      <td>5</td>\n",
       "      <td>4</td>\n",
       "      <td>197</td>\n",
       "      <td>Doing Nothing</td>\n",
       "      <td>unknown</td>\n",
       "    </tr>\n",
       "    <tr>\n",
       "      <th>80</th>\n",
       "      <td>40980</td>\n",
       "      <td>1760</td>\n",
       "      <td>15/09/04 08:44</td>\n",
       "      <td>5</td>\n",
       "      <td>1</td>\n",
       "      <td>700</td>\n",
       "      <td>Koch Snowflake</td>\n",
       "      <td>-</td>\n",
       "    </tr>\n",
       "    <tr>\n",
       "      <th>83</th>\n",
       "      <td>40980</td>\n",
       "      <td>1163</td>\n",
       "      <td>15/08/28 11:14</td>\n",
       "      <td>5</td>\n",
       "      <td>5</td>\n",
       "      <td>589</td>\n",
       "      <td>Angry Ducks</td>\n",
       "      <td>math</td>\n",
       "    </tr>\n",
       "  </tbody>\n",
       "</table>\n",
       "</div>"
      ],
      "text/plain": [
       "    user_id  problem_id            date  category_id  level  solved  \\\n",
       "58    40980        1169  15/04/19 03:43            5      1    3595   \n",
       "75    40980        1233  15/10/06 01:35            5      6     537   \n",
       "76    40980        1989  15/11/28 06:17            5      4     197   \n",
       "80    40980        1760  15/09/04 08:44            5      1     700   \n",
       "83    40980        1163  15/08/28 11:14            5      5     589   \n",
       "\n",
       "                       name                topics  \n",
       "58  Grains in a Chess Board           simple math  \n",
       "75                     Star  math, numbers theory  \n",
       "76            Doing Nothing               unknown  \n",
       "80           Koch Snowflake                     -  \n",
       "83              Angry Ducks                  math  "
      ]
     },
     "execution_count": 618,
     "metadata": {},
     "output_type": "execute_result"
    }
   ],
   "source": [
    "solutions_df = load_solutions()\n",
    "solutions_df[:5]"
   ]
  },
  {
   "cell_type": "markdown",
   "metadata": {},
   "source": [
    "Quantidade de soluções do dataset:"
   ]
  },
  {
   "cell_type": "code",
   "execution_count": 605,
   "metadata": {},
   "outputs": [
    {
     "data": {
      "text/plain": [
       "20444"
      ]
     },
     "execution_count": 605,
     "metadata": {},
     "output_type": "execute_result"
    }
   ],
   "source": [
    "len(solutions_df)"
   ]
  },
  {
   "cell_type": "markdown",
   "metadata": {},
   "source": [
    "Quantidade de problemas do dataset:"
   ]
  },
  {
   "cell_type": "code",
   "execution_count": 606,
   "metadata": {},
   "outputs": [
    {
     "data": {
      "text/plain": [
       "105"
      ]
     },
     "execution_count": 606,
     "metadata": {},
     "output_type": "execute_result"
    }
   ],
   "source": [
    "solutions_df['problem_id'].nunique()"
   ]
  },
  {
   "cell_type": "markdown",
   "metadata": {},
   "source": [
    "Quantidade de usuários do dataset:"
   ]
  },
  {
   "cell_type": "code",
   "execution_count": 607,
   "metadata": {},
   "outputs": [
    {
     "data": {
      "text/plain": [
       "617"
      ]
     },
     "execution_count": 607,
     "metadata": {},
     "output_type": "execute_result"
    }
   ],
   "source": [
    "solutions_df['user_id'].nunique()"
   ]
  },
  {
   "cell_type": "markdown",
   "metadata": {},
   "source": [
    "Quantidade de categorias do dataset:"
   ]
  },
  {
   "cell_type": "code",
   "execution_count": 608,
   "metadata": {},
   "outputs": [
    {
     "data": {
      "text/plain": [
       "1"
      ]
     },
     "execution_count": 608,
     "metadata": {},
     "output_type": "execute_result"
    }
   ],
   "source": [
    "solutions_df['category_id'].nunique()"
   ]
  },
  {
   "cell_type": "markdown",
   "metadata": {},
   "source": [
    "# Modelo\n",
    "\n",
    "## Considerações iniciais\n",
    "\n",
    "\n",
    "O aprendizado é um processo gradativo, por se realizar por meio de operações crescentemente complexas. A cada aprendizagem novos elementos são acrescidos às experiências anteriores em dimensão gradativa e ascendente. Também se caracteriza por ser um processo cumulativo, visto que a experiência de aprendizagem atual utiliza-se das experiências anteriores. [(SANTANA, 2014)](http://producao.virtual.ufpb.br/books/edusantana/fundamentos-psicologicos-da-educacao-livro/livro/livro.chunked/ch06s03.html)\n",
    "\n",
    "Tal como as aulas de cálculo, onde começamos pelo o estudo de funções, passamos por limites e derivadas até finalmente o estudo das integrais. Da mesma forma acontece o treinamento para a maratona de programação. Por exemplo, no estudo de estruturas de dados, iniciamos com o estudo de estruturas de dados simples como pilhas e filas, seguido por estruturas como árvores e grafos até chegarmos em estruturas de dados complexas como a Segment Tree.\n",
    "\n",
    "Baseado nas informações acima citadas, podemos concluir que um competidor para resolver um problema mais complexo, necessita desenvolver conhecimentos fundamentais. E a partir desta conclusão temos o primeiro problema a ser resolvido por este trabalho: **Identificar os tópicos necessários a se saber para a solução de um problema**\n",
    "\n",
    "Tendo isso em mente, essa será a primeira tarefa desenvolvida. Para isso iremos utilizar a técnica de Collaborative Filtering.\n",
    "\n",
    "\n",
    "## Colaborative Filtering\n",
    "\n",
    "> A Colaborative Filtering é um método para fazer previsões automáticas (filtragem) sobre os interesses de um usuário, coletando preferências ou informações de gosto de muitos usuários (colaborando). O pressuposto subjacente da abordagem de filtragem colaborativa é que se uma pessoa A tiver a mesma opinião que uma pessoa B em um problema, é mais provável que a opinião de B seja diferente em relação a uma pessoa escolhida aleatoriamente. Por exemplo, um sistema de recomendação de filtragem colaborativa para os gostos da televisão poderia fazer previsões sobre o programa de televisão que um usuário deveria gostar, dado uma lista parcial dos gostos desse usuário (gosta ou não gosta).\n",
    "\n",
    "Imagine uma situação onde temos um dataset composto por avaliações de filmes. Cada avaliação é feita através de uma nota entre 1 e 5. Teriamos uma tabela da seguinte forma:\n",
    "\n",
    "| Filmes  | Ana | Beto | Carlos | Dani |\n",
    "|---------|:---:|:----:|:------:|:----:|\n",
    "| Querido John |  5  |   4  |    0   |   0  |\n",
    "| Titanic |  3  |   5  |    0   |   0  |\n",
    "| Batman |  0  |   0  |    4   |   5  |\n",
    "| Thor |  0  |   0  |    5   |   4  |\n",
    "\n",
    "As notas dadas aos filmes podem ser relacionadas as preferências do usuário em relação aos gêneros dos filmes. A alta nota de Beto ao filme Titanic pode ser justificada por Beto gostar de filmes de romance.\n",
    "\n",
    "Logo, se fossem conhecidos as caraterísticas dos filmes e as preferências do usuários, poderiamos prever uma avaliação de um filme por um usuário, e com isso, conseguir sugerir o melhor filme para o usuário.\n",
    "\n",
    "| Filme/Características | Ação | Romance |\n",
    "|---------|:--:|:--:|\n",
    "| Querido John | ? | ? |\n",
    "| Titanic | ? | ? |\n",
    "| Batman | ? | ? |\n",
    "| Thor | ? | ? |\n",
    "\n",
    "\n",
    "| Usuário/Preferência  | Ação | Romance |\n",
    "|:--:|:-:|:--:|\n",
    "| Ana | ? | ? |\n",
    "| Beto | ? | ? |\n",
    "| Carlos | ? | ? |\n",
    "| Dani | ? | ? |\n"
   ]
  },
  {
   "cell_type": "markdown",
   "metadata": {},
   "source": [
    "Podemos então representar cada filme com um vetor de **características** $X$ e cada usuário com um vetor de **preferências** $\\theta$ ambos de mesma dimensão. A nota final do filme, pode ser então dada pelo produto $X ⋅ \\theta^T$\n",
    "\n",
    "Embora não tenhamos os valores de $X$ e $\\theta$ estes valores podem ser obtidos através do nosso dataset seguindo os seguintes passos:\n",
    "\n",
    "1. Iniciamos $X$ com valores randômicos.\n",
    "2. A partir daí temos um problema de otimização, onde o nosso objetivo é encontrar os valores de $\\theta$ que minimizem a diferença entre a nota do filme $f$ dado pelo usuário $u$ pelo produto $ X_u \\cdot \\theta_f^T $.\n",
    "3. Repetimos o procedimento 2, porém com o objetivo de encontrar os novos valores de $X$ utilizando os valores de $\\theta$ encontrados. \n",
    "4. Repetimos os procedimentos 2 e 3, até encontrarmos valores estáveis de $\\theta$ e $X$ ou por um número pré determinado de iterações."
   ]
  },
  {
   "cell_type": "code",
   "execution_count": 9,
   "metadata": {},
   "outputs": [],
   "source": [
    "# http://www.bogotobogo.com/python/python_numpy_batch_gradient_descent_algorithm.php\n",
    "def gradient_descent(x, y, alpha=0.01, nr_iterations=NR_ITERATIONS):\n",
    "\n",
    "    # m - number of samples\n",
    "    # n - number features\n",
    "    m, n = x.shape\n",
    "\n",
    "    # insert column theta_zero = 1\n",
    "    x = np.c_[ np.ones(m), x]\n",
    "\n",
    "    theta = np.ones(n + 1)\n",
    "    x_transpose = x.transpose()\n",
    "\n",
    "    for iter in range(0, nr_iterations):\n",
    "        hypothesis = np.dot(x, theta)\n",
    "        loss = hypothesis - y\n",
    "        J = np.sum(loss ** 2) / (2 * m)\n",
    "        gradient = np.dot(x_transpose, loss) / m         \n",
    "        theta = theta - alpha * gradient\n",
    "\n",
    "    return theta"
   ]
  },
  {
   "cell_type": "code",
   "execution_count": 281,
   "metadata": {},
   "outputs": [
    {
     "name": "stdout",
     "output_type": "stream",
     "text": [
      "Progress: 100.0%\n"
     ]
    }
   ],
   "source": [
    "users_preferences = np.array([\n",
    "    [rand(), rand()],\n",
    "    [rand(), rand()],\n",
    "    [rand(), rand()],\n",
    "    [rand(), rand()],\n",
    "])\n",
    "\n",
    "movies_characteristics = [\n",
    "    [None, None],\n",
    "    [None, None],\n",
    "    [None, None],\n",
    "    [None, None],\n",
    "]\n",
    "\n",
    "ratings = [\n",
    "    [5, 4, 0, 0],\n",
    "    [3, 5, 0, 0],\n",
    "    [0, 0, 4, 5],\n",
    "    [0, 0, 5, 4],\n",
    "]\n",
    "\n",
    "ratings_t = np.transpose(ratings).tolist()\n",
    "\n",
    "nr_users = len(users_preferences)\n",
    "nr_movies = len(movies_characteristics)\n",
    "\n",
    "i = 0\n",
    "while i <= NR_EPOCHS:\n",
    "    clear_output(wait=True)\n",
    "    print('Progress: {}%'.format(100 * i / NR_EPOCHS))\n",
    "    i += 1\n",
    "\n",
    "    for movie in range(nr_movies):\n",
    "        x = np.array(\n",
    "            users_preferences\n",
    "        )\n",
    "\n",
    "        y = np.array(\n",
    "            ratings[movie]\n",
    "        )\n",
    "\n",
    "        movies_characteristics[movie] = gradient_descent(x, y)[1:]\n",
    "\n",
    "\n",
    "    for user in range(nr_users):\n",
    "        x = np.array(\n",
    "            movies_characteristics\n",
    "        )\n",
    "\n",
    "        y = np.array(\n",
    "            ratings_t[user]\n",
    "        )\n",
    "\n",
    "        users_preferences[user] = gradient_descent(x, y)[1:]"
   ]
  },
  {
   "cell_type": "markdown",
   "metadata": {},
   "source": [
    "Preferências dos usuários"
   ]
  },
  {
   "cell_type": "code",
   "execution_count": 11,
   "metadata": {},
   "outputs": [
    {
     "data": {
      "text/plain": [
       "array([[ 1.44824299, -0.72341461],\n",
       "       [ 1.58051267, -0.8127916 ],\n",
       "       [ 0.55120975,  1.7742259 ],\n",
       "       [ 0.55120979,  1.7742259 ]])"
      ]
     },
     "execution_count": 11,
     "metadata": {},
     "output_type": "execute_result"
    }
   ],
   "source": [
    "users_preferences"
   ]
  },
  {
   "cell_type": "markdown",
   "metadata": {},
   "source": [
    "Características dos filmes"
   ]
  },
  {
   "cell_type": "code",
   "execution_count": 12,
   "metadata": {},
   "outputs": [
    {
     "data": {
      "text/plain": [
       "[array([ 1.56736625, -0.83680245]),\n",
       " array([ 1.43773043, -0.74457355]),\n",
       " array([ 0.589938 ,  1.7713829]),\n",
       " array([ 0.58993779,  1.77138289])]"
      ]
     },
     "execution_count": 12,
     "metadata": {},
     "output_type": "execute_result"
    }
   ],
   "source": [
    "movies_characteristics"
   ]
  },
  {
   "cell_type": "markdown",
   "metadata": {},
   "source": [
    "Com os valores de $X$ e $\\theta$ em mãos, podemos então prever os votos dos usuários através do produto $X ⋅ \\theta^T$"
   ]
  },
  {
   "cell_type": "code",
   "execution_count": 13,
   "metadata": {},
   "outputs": [
    {
     "data": {
      "text/plain": [
       "array([[ 5.,  5.,  2.,  2.],\n",
       "       [ 5.,  5.,  1.,  1.],\n",
       "       [ 1.,  1.,  5.,  5.],\n",
       "       [ 1.,  1.,  5.,  5.]])"
      ]
     },
     "execution_count": 13,
     "metadata": {},
     "output_type": "execute_result"
    }
   ],
   "source": [
    "np.rint(np.dot(users_preferences, np.transpose(movies_characteristics))) + 2"
   ]
  },
  {
   "cell_type": "markdown",
   "metadata": {},
   "source": [
    "# Adaptação\n",
    "\n",
    "O conceito acima citado, foi estudado e então adaptado ao nosso problema. Primeiramente foram identificadas as características de cada problema, assim como identificamos as características dos filmes. Então identificamos as características do usuário, e assim então poderemos encontrar o problema mais adequado ao treinamento do usuário.\n",
    "\n",
    "## As características do problema\n",
    "\n",
    "No processo de adaptação, as características dos filmes foram definidas como **requisitos** do problema. Ou seja, aquilo que deve ser de conhecimento para que um usuário possa resolver o problema.\n",
    "\n",
    "Da mesma forma, as preferências do usuário foram definidas com **habilidades**, ou seja, aquilo que é de conhecimento do usuário e o habilita a solucionar problemas que tenha seus requisitos contidos em suas habilidades.\n",
    "\n",
    "Se um usuário $U_i$ consegue resolver um problema $P_j$, podemos assumir que o usuário $U_i$ tem habilidades suficientes para suprir os requisitos necessários para a solução do problema $P_j$.\n",
    "\n",
    "A partir dessas premissas iremos identificar quais são os requisitos dos problemas baseado nos histórico de soluções de nosso dataset.\n",
    "\n",
    "Para isso, iremos realizar o seguinte procedimento para cada um dos problemas em nosso dataset:\n",
    "\n",
    "Encontrar todos os usuários que resolveram o problema P:"
   ]
  },
  {
   "cell_type": "code",
   "execution_count": 14,
   "metadata": {},
   "outputs": [],
   "source": [
    "def get_problems_from_solutions(solutions_df):\n",
    "    problems = set(solutions_df['problem_id'])\n",
    "\n",
    "    return list(problems)\n",
    "\n",
    "def get_users_that_solved_the_problem(solutions_df, problem_id):\n",
    "    solutions_of_the_problem_df = solutions_df[solutions_df['problem_id'] == problem_id]\n",
    "    users = solutions_of_the_problem_df['user_id']\n",
    "    \n",
    "    return list(users)"
   ]
  },
  {
   "cell_type": "markdown",
   "metadata": {},
   "source": [
    "Para cada usuário, iremos buscar todos os problemas que foram solucionados antes do problema P"
   ]
  },
  {
   "cell_type": "code",
   "execution_count": 15,
   "metadata": {},
   "outputs": [],
   "source": [
    "def get_date_when_user_solved_the_problem(solutions_df, user_id, problem_id):\n",
    "    solution = solutions_df[(solutions_df['problem_id'] == problem_id) & (solutions_df['user_id'] == user_id)]\n",
    "    solution_date = solution['date'].values[0]\n",
    "\n",
    "    return solution_date\n",
    "\n",
    "def get_past_problems(solutions_df, user_id, problem_id):\n",
    "    solution_date = get_date_when_user_solved_the_problem(solutions_df, user_id, problem_id)\n",
    "    past_solutions = solutions_df[(solutions_df['date'] < solution_date) & (solutions_df['user_id'] == user_id)]\n",
    "    problems = past_solutions['problem_id']\n",
    "\n",
    "    return list(problems)"
   ]
  },
  {
   "cell_type": "markdown",
   "metadata": {},
   "source": [
    "Iremos então criar uma matriz $M$. Onde cada linha corresponde a um problema $P_i$ solucionado antes do problema $P$, e cada coluna corresponde a um usuário $U_j$ que em algum momento resolveu o problema $P$.\n",
    "\n",
    "Se o problema $P_i$ foi resolvido pelo usuário $U_j$ temos que $M_{i,j} = 1$, caso contrário $M_{i,j} = 0$."
   ]
  },
  {
   "cell_type": "code",
   "execution_count": 16,
   "metadata": {},
   "outputs": [],
   "source": [
    "def optimize_matrix(matrix):\n",
    "    matrix = matrix[~np.all(matrix == 0., axis=1)]\n",
    "    \n",
    "    return matrix\n",
    "\n",
    "def get_solution_matrix(solutions_df, problem):\n",
    "    users = get_users_that_solved_the_problem(solutions_df, problem)\n",
    "\n",
    "    solutions = []\n",
    "    min_problem = float('inf')\n",
    "    max_problem = float('-inf')\n",
    "\n",
    "    for user in users:\n",
    "        past_problems = get_past_problems(solutions_df, user, problem)\n",
    "\n",
    "        solutions.append(past_problems)\n",
    "\n",
    "        min_problem = min([min_problem] + past_problems)\n",
    "        max_problem = max([max_problem] + past_problems)\n",
    "\n",
    "    nr_problems = max_problem - min_problem + 1\n",
    "    nr_users = len(users)\n",
    "    matrix = np.zeros((nr_problems, nr_users))\n",
    "\n",
    "    for user in range(nr_users):\n",
    "        for problem in solutions[user]:\n",
    "            problem_index = problem - min_problem\n",
    "            matrix[problem_index][user] = 1\n",
    "            \n",
    "    return optimize_matrix(matrix)"
   ]
  },
  {
   "cell_type": "markdown",
   "metadata": {},
   "source": [
    "Com a matriz $M$, podemos executar o nosso algoritmo de otimização e então obter os valores de $X$ e $\\theta$.\n",
    "\n",
    "Nessa situação, podemos fazer a seguinte leitura:\n",
    "\n",
    "> $X_{i}$ representa os requisitos do problema $P_i$ enquanto que $\\theta_j$ representa as habilidades do usuário $U_j$.\n",
    "\n",
    "Como anteriormente discutido, acreditamos que todos os problemas resolvidos antes de $P$ por um usuário $U$, contribuem para o desenvolvimento de suas habilidades, desta forma podemos concluir que o conjunto de habilidades $\\theta$ ou o conjunto de requisitos $X$ formam as características do problema $P$.\n",
    "\n",
    "Atribuímos então a $\\theta_P$ a média de $\\theta$.\n",
    "\n"
   ]
  },
  {
   "cell_type": "code",
   "execution_count": 17,
   "metadata": {},
   "outputs": [],
   "source": [
    "def get_theta_of_problem(matrix):\n",
    "    nr_problems, nr_users = matrix.shape\n",
    "\n",
    "    theta_users = np.random.rand(nr_users, NR_FEATURES)\n",
    "    theta_problems = np.zeros((nr_problems, NR_FEATURES))\n",
    "\n",
    "    matrix_t = np.transpose(matrix)\n",
    "\n",
    "    i = 0\n",
    "    while i <= NR_EPOCHS:\n",
    "        clear_output(wait=True)\n",
    "        print('Progress: {}%'.format(100 * i/NR_EPOCHS))\n",
    "        i += 1\n",
    "\n",
    "        for problem in range(nr_problems):\n",
    "            x = np.array(\n",
    "                theta_users\n",
    "            )\n",
    "\n",
    "            y = np.array(\n",
    "                matrix[problem]\n",
    "            )\n",
    "\n",
    "            theta_problems[problem] = gradient_descent(x, y)[1:]\n",
    "\n",
    "        for user in range(nr_users):\n",
    "            x = np.array(\n",
    "                theta_problems\n",
    "            )\n",
    "\n",
    "            y = np.array(\n",
    "                matrix_t[user]\n",
    "            )\n",
    "\n",
    "            theta_users[user] = gradient_descent(x, y)[1:]\n",
    "    \n",
    "    return theta_problems.mean(axis=0)"
   ]
  },
  {
   "cell_type": "markdown",
   "metadata": {},
   "source": [
    "## As características do usuário\n",
    "\n",
    "Com as características dos problemas do nosso dataset já definidas, podemos então encontrar as características do nosso usuário. Para isso, iremos construir a mesma matriz $M$, porém utilizando todo o histórico do usuário em questão."
   ]
  },
  {
   "cell_type": "code",
   "execution_count": 18,
   "metadata": {},
   "outputs": [],
   "source": [
    "def get_theta_of_user(problems_solved, thetas_solved):\n",
    "    \n",
    "    if not problems_solved:\n",
    "        return np.zeros(NR_FEATURES)\n",
    "\n",
    "    nr_problems = len(problems_solved)\n",
    "    \n",
    "    y = np.ones(nr_problems)\n",
    "    x = np.array(list(thetas_solved.values()))\n",
    "\n",
    "    thetas = [thetas_solved[t] for t in thetas_solved]    \n",
    "    theta_of_user = np.max(thetas, axis=0)\n",
    "\n",
    "    return theta_of_user"
   ]
  },
  {
   "cell_type": "markdown",
   "metadata": {},
   "source": [
    "## Recomendação\n",
    "\n",
    "Neste momento, temos para cada problema do nosso dataset suas características, e para cada usuário a capacidade de calcular suas habilidades baseado em seu histórico. Com isso, podemos então encontrar o melhor problema para o seu treinamento.\n",
    "\n",
    "A recomendação é feita da seguinte forma:\n",
    "\n",
    "- É retirado todos os problemas que possuem todos os requisitos inferiores as habilidades do usuário.\n",
    "- É selecionado então o problema mais próximo a habilidade do usuário\n",
    "- A distância é calculada através da distância do vetor de habilidades e o vetor de requisitos."
   ]
  },
  {
   "cell_type": "code",
   "execution_count": 663,
   "metadata": {},
   "outputs": [],
   "source": [
    "def find_closest_problem(theta_user, theta_problems):\n",
    "    problems = [problem for problem in theta_problems if (theta_problems[problem] > theta_user).any()]\n",
    "    points = [theta_problems[problem] for problem in problems]\n",
    "    nr_points = len(points)\n",
    "    \n",
    "    if not points:\n",
    "        return None\n",
    "    \n",
    "    \n",
    "    tree = spatial.KDTree(points)\n",
    "    distances, indexes = tree.query(theta_user, k=nr_points)\n",
    "    \n",
    "    if nr_points == 1:\n",
    "        distances = [distances]\n",
    "        indexes = [indexes]\n",
    "    \n",
    "    for distance, index in zip(distances, indexes):\n",
    "        if distance > AGGRESSIVITY_RADIUS:\n",
    "            return problems[index]\n",
    "    \n",
    "    return None\n",
    "    \n",
    "def get_next_problem(problems_solved, thetas):\n",
    "    thetas_solved = {}\n",
    "    thetas_not_solved = {}\n",
    "    \n",
    "    for theta in thetas:\n",
    "        if theta in problems_solved:\n",
    "            thetas_solved[theta] = thetas[theta]\n",
    "        else:\n",
    "            thetas_not_solved[theta] = thetas[theta]\n",
    "\n",
    "    if not thetas_not_solved:\n",
    "        return None\n",
    "    \n",
    "    theta_user = get_theta_of_user(problems_solved, thetas_solved)\n",
    "    problem = find_closest_problem(theta_user, thetas_not_solved)\n",
    "    \n",
    "    return problem\n"
   ]
  },
  {
   "cell_type": "code",
   "execution_count": 274,
   "metadata": {},
   "outputs": [],
   "source": [
    "def get_thetas(solutions_df):\n",
    "    thetas = {}\n",
    "    \n",
    "    i = 0\n",
    "    i_max = len(get_problems_from_solutions(solutions_df))\n",
    "\n",
    "    for problem in get_problems_from_solutions(solutions_df):\n",
    "        matrix = get_solution_matrix(solutions_df, problem)\n",
    "        theta = get_theta_of_problem(matrix)\n",
    "        thetas[problem] = theta\n",
    "        \n",
    "        clear_output(wait=True); print('Progress: {}%'.format(100 * i / i_max)); i += 1\n",
    "\n",
    "    return thetas"
   ]
  },
  {
   "cell_type": "code",
   "execution_count": 21,
   "metadata": {},
   "outputs": [],
   "source": [
    "def simulate_user(thetas):\n",
    "    problems_solved = []\n",
    "    while True:\n",
    "        next_problem = get_next_problem(problems_solved, thetas)\n",
    "\n",
    "        if not next_problem:\n",
    "            break\n",
    "\n",
    "        problems_solved.append(next_problem)\n",
    "        \n",
    "    return problems_solved"
   ]
  },
  {
   "cell_type": "code",
   "execution_count": 621,
   "metadata": {
    "scrolled": false
   },
   "outputs": [],
   "source": [
    "# refactor\n",
    "def add_theta_to_dataset(problems_solved, thetas):\n",
    "    problems_df = pd.read_csv('problems_uri.csv')\n",
    "    problems_df = problems_df[problems_df['problem_id'].isin(problems_solved)]\n",
    "\n",
    "    # add theta column\n",
    "    for problem_id in problems_solved:\n",
    "        problems_df.loc[problems_df['problem_id'] == problem_id, 'theta'] = thetas[problem_id].sum()\n",
    "\n",
    "    problems_df = problems_df.sort_values([\"theta\"])\n",
    "\n",
    "    return problems_df"
   ]
  },
  {
   "cell_type": "code",
   "execution_count": 619,
   "metadata": {},
   "outputs": [],
   "source": [
    "def get_problems_from_thetas(thetas):\n",
    "    problems_df = pd.read_csv('problems_uri.csv')\n",
    "    problems_df = problems_df[problems_df['problem_id'].isin(list(thetas.keys()))]\n",
    "\n",
    "    # add theta column\n",
    "    for problem_id in list(problems_df['problem_id']):\n",
    "        problems_df.loc[problems_df['problem_id'] == problem_id, 'theta'] = thetas[problem_id].sum()\n",
    "\n",
    "    problems_df = problems_df.sort_values([\"theta\"])\n",
    "    return problems_df"
   ]
  },
  {
   "cell_type": "markdown",
   "metadata": {},
   "source": [
    "# Simulação"
   ]
  },
  {
   "cell_type": "code",
   "execution_count": 692,
   "metadata": {},
   "outputs": [
    {
     "name": "stdout",
     "output_type": "stream",
     "text": [
      "Progress: 99.04761904761905%\n"
     ]
    },
    {
     "data": {
      "text/html": [
       "<div>\n",
       "<style scoped>\n",
       "    .dataframe tbody tr th:only-of-type {\n",
       "        vertical-align: middle;\n",
       "    }\n",
       "\n",
       "    .dataframe tbody tr th {\n",
       "        vertical-align: top;\n",
       "    }\n",
       "\n",
       "    .dataframe thead th {\n",
       "        text-align: right;\n",
       "    }\n",
       "</style>\n",
       "<table border=\"1\" class=\"dataframe\">\n",
       "  <thead>\n",
       "    <tr style=\"text-align: right;\">\n",
       "      <th></th>\n",
       "      <th>problem_id</th>\n",
       "      <th>category_id</th>\n",
       "      <th>level</th>\n",
       "      <th>solved</th>\n",
       "      <th>name</th>\n",
       "      <th>topics</th>\n",
       "      <th>theta</th>\n",
       "    </tr>\n",
       "  </thead>\n",
       "  <tbody>\n",
       "    <tr>\n",
       "      <th>197</th>\n",
       "      <td>1198</td>\n",
       "      <td>5</td>\n",
       "      <td>1</td>\n",
       "      <td>4866</td>\n",
       "      <td>Hashmat the Brave Warrior</td>\n",
       "      <td>simple math</td>\n",
       "      <td>0.612314</td>\n",
       "    </tr>\n",
       "    <tr>\n",
       "      <th>211</th>\n",
       "      <td>1212</td>\n",
       "      <td>5</td>\n",
       "      <td>2</td>\n",
       "      <td>2408</td>\n",
       "      <td>Primary Arithmetic</td>\n",
       "      <td>math, division and mod (%)</td>\n",
       "      <td>0.636474</td>\n",
       "    </tr>\n",
       "    <tr>\n",
       "      <th>220</th>\n",
       "      <td>1221</td>\n",
       "      <td>5</td>\n",
       "      <td>2</td>\n",
       "      <td>5113</td>\n",
       "      <td>Fast Prime Number</td>\n",
       "      <td>math</td>\n",
       "      <td>0.644282</td>\n",
       "    </tr>\n",
       "    <tr>\n",
       "      <th>246</th>\n",
       "      <td>1247</td>\n",
       "      <td>5</td>\n",
       "      <td>2</td>\n",
       "      <td>2155</td>\n",
       "      <td>Coast Guard</td>\n",
       "      <td>math, ad hoc</td>\n",
       "      <td>0.665393</td>\n",
       "    </tr>\n",
       "    <tr>\n",
       "      <th>239</th>\n",
       "      <td>1240</td>\n",
       "      <td>5</td>\n",
       "      <td>1</td>\n",
       "      <td>3958</td>\n",
       "      <td>Fit or Dont Fit I</td>\n",
       "      <td>simple math, division and mod</td>\n",
       "      <td>0.698079</td>\n",
       "    </tr>\n",
       "    <tr>\n",
       "      <th>213</th>\n",
       "      <td>1214</td>\n",
       "      <td>5</td>\n",
       "      <td>2</td>\n",
       "      <td>3282</td>\n",
       "      <td>Above Average</td>\n",
       "      <td>math</td>\n",
       "      <td>0.738892</td>\n",
       "    </tr>\n",
       "    <tr>\n",
       "      <th>196</th>\n",
       "      <td>1197</td>\n",
       "      <td>5</td>\n",
       "      <td>1</td>\n",
       "      <td>5002</td>\n",
       "      <td>Back to High School Physics</td>\n",
       "      <td>phisics, math</td>\n",
       "      <td>0.740795</td>\n",
       "    </tr>\n",
       "    <tr>\n",
       "      <th>212</th>\n",
       "      <td>1213</td>\n",
       "      <td>5</td>\n",
       "      <td>4</td>\n",
       "      <td>1083</td>\n",
       "      <td>Ones</td>\n",
       "      <td>math</td>\n",
       "      <td>0.790728</td>\n",
       "    </tr>\n",
       "    <tr>\n",
       "      <th>232</th>\n",
       "      <td>1233</td>\n",
       "      <td>5</td>\n",
       "      <td>6</td>\n",
       "      <td>537</td>\n",
       "      <td>Star</td>\n",
       "      <td>math, numbers theory</td>\n",
       "      <td>0.823279</td>\n",
       "    </tr>\n",
       "    <tr>\n",
       "      <th>456</th>\n",
       "      <td>1457</td>\n",
       "      <td>5</td>\n",
       "      <td>2</td>\n",
       "      <td>1568</td>\n",
       "      <td>Oracle of Alexandria</td>\n",
       "      <td>ad-hoc, simple math</td>\n",
       "      <td>0.826723</td>\n",
       "    </tr>\n",
       "    <tr>\n",
       "      <th>629</th>\n",
       "      <td>1630</td>\n",
       "      <td>5</td>\n",
       "      <td>4</td>\n",
       "      <td>470</td>\n",
       "      <td>Stakes</td>\n",
       "      <td>-</td>\n",
       "      <td>0.842293</td>\n",
       "    </tr>\n",
       "    <tr>\n",
       "      <th>696</th>\n",
       "      <td>1697</td>\n",
       "      <td>5</td>\n",
       "      <td>2</td>\n",
       "      <td>265</td>\n",
       "      <td>Jaida and Multiply Game</td>\n",
       "      <td>number theory</td>\n",
       "      <td>0.883219</td>\n",
       "    </tr>\n",
       "    <tr>\n",
       "      <th>92</th>\n",
       "      <td>1093</td>\n",
       "      <td>5</td>\n",
       "      <td>5</td>\n",
       "      <td>810</td>\n",
       "      <td>Vampires</td>\n",
       "      <td>math, probability theory</td>\n",
       "      <td>0.911345</td>\n",
       "    </tr>\n",
       "    <tr>\n",
       "      <th>399</th>\n",
       "      <td>1400</td>\n",
       "      <td>5</td>\n",
       "      <td>3</td>\n",
       "      <td>400</td>\n",
       "      <td>Counting Game</td>\n",
       "      <td>ad hoc</td>\n",
       "      <td>0.939985</td>\n",
       "    </tr>\n",
       "    <tr>\n",
       "      <th>925</th>\n",
       "      <td>1926</td>\n",
       "      <td>5</td>\n",
       "      <td>4</td>\n",
       "      <td>333</td>\n",
       "      <td>Marianne and The Twin Cousins</td>\n",
       "      <td>unknown</td>\n",
       "      <td>0.967299</td>\n",
       "    </tr>\n",
       "    <tr>\n",
       "      <th>649</th>\n",
       "      <td>1650</td>\n",
       "      <td>5</td>\n",
       "      <td>2</td>\n",
       "      <td>268</td>\n",
       "      <td>Black and White Painting</td>\n",
       "      <td>math</td>\n",
       "      <td>0.980136</td>\n",
       "    </tr>\n",
       "    <tr>\n",
       "      <th>530</th>\n",
       "      <td>1531</td>\n",
       "      <td>5</td>\n",
       "      <td>5</td>\n",
       "      <td>219</td>\n",
       "      <td>Fibonacci Again!</td>\n",
       "      <td>linear recurrences</td>\n",
       "      <td>1.016963</td>\n",
       "    </tr>\n",
       "    <tr>\n",
       "      <th>1148</th>\n",
       "      <td>2149</td>\n",
       "      <td>5</td>\n",
       "      <td>1</td>\n",
       "      <td>511</td>\n",
       "      <td>The Uncle Phill Bonati's Sequence</td>\n",
       "      <td>unknow</td>\n",
       "      <td>1.032960</td>\n",
       "    </tr>\n",
       "    <tr>\n",
       "      <th>1032</th>\n",
       "      <td>2033</td>\n",
       "      <td>5</td>\n",
       "      <td>2</td>\n",
       "      <td>162</td>\n",
       "      <td>Interest on Loan</td>\n",
       "      <td>financial math</td>\n",
       "      <td>1.046243</td>\n",
       "    </tr>\n",
       "    <tr>\n",
       "      <th>988</th>\n",
       "      <td>1989</td>\n",
       "      <td>5</td>\n",
       "      <td>4</td>\n",
       "      <td>197</td>\n",
       "      <td>Doing Nothing</td>\n",
       "      <td>unknown</td>\n",
       "      <td>1.106505</td>\n",
       "    </tr>\n",
       "    <tr>\n",
       "      <th>1231</th>\n",
       "      <td>2232</td>\n",
       "      <td>5</td>\n",
       "      <td>2</td>\n",
       "      <td>922</td>\n",
       "      <td>Pascal's Triangle</td>\n",
       "      <td>math</td>\n",
       "      <td>1.123183</td>\n",
       "    </tr>\n",
       "    <tr>\n",
       "      <th>998</th>\n",
       "      <td>1999</td>\n",
       "      <td>5</td>\n",
       "      <td>2</td>\n",
       "      <td>133</td>\n",
       "      <td>Ball of Reconciliation</td>\n",
       "      <td>math</td>\n",
       "      <td>1.144454</td>\n",
       "    </tr>\n",
       "    <tr>\n",
       "      <th>659</th>\n",
       "      <td>1660</td>\n",
       "      <td>5</td>\n",
       "      <td>5</td>\n",
       "      <td>108</td>\n",
       "      <td>Flavius Josephus Reloaded</td>\n",
       "      <td>int factorization, s.t. pollard rho</td>\n",
       "      <td>1.185718</td>\n",
       "    </tr>\n",
       "    <tr>\n",
       "      <th>1217</th>\n",
       "      <td>2218</td>\n",
       "      <td>5</td>\n",
       "      <td>1</td>\n",
       "      <td>177</td>\n",
       "      <td>The Fearful Evil-Son</td>\n",
       "      <td>induction</td>\n",
       "      <td>1.235798</td>\n",
       "    </tr>\n",
       "  </tbody>\n",
       "</table>\n",
       "</div>"
      ],
      "text/plain": [
       "      problem_id  category_id  level  solved  \\\n",
       "197         1198            5      1    4866   \n",
       "211         1212            5      2    2408   \n",
       "220         1221            5      2    5113   \n",
       "246         1247            5      2    2155   \n",
       "239         1240            5      1    3958   \n",
       "213         1214            5      2    3282   \n",
       "196         1197            5      1    5002   \n",
       "212         1213            5      4    1083   \n",
       "232         1233            5      6     537   \n",
       "456         1457            5      2    1568   \n",
       "629         1630            5      4     470   \n",
       "696         1697            5      2     265   \n",
       "92          1093            5      5     810   \n",
       "399         1400            5      3     400   \n",
       "925         1926            5      4     333   \n",
       "649         1650            5      2     268   \n",
       "530         1531            5      5     219   \n",
       "1148        2149            5      1     511   \n",
       "1032        2033            5      2     162   \n",
       "988         1989            5      4     197   \n",
       "1231        2232            5      2     922   \n",
       "998         1999            5      2     133   \n",
       "659         1660            5      5     108   \n",
       "1217        2218            5      1     177   \n",
       "\n",
       "                                   name                               topics  \\\n",
       "197           Hashmat the Brave Warrior                          simple math   \n",
       "211                  Primary Arithmetic           math, division and mod (%)   \n",
       "220                   Fast Prime Number                                 math   \n",
       "246                         Coast Guard                         math, ad hoc   \n",
       "239                   Fit or Dont Fit I        simple math, division and mod   \n",
       "213                       Above Average                                 math   \n",
       "196         Back to High School Physics                        phisics, math   \n",
       "212                                Ones                                 math   \n",
       "232                                Star                 math, numbers theory   \n",
       "456                Oracle of Alexandria                  ad-hoc, simple math   \n",
       "629                              Stakes                                    -   \n",
       "696             Jaida and Multiply Game                        number theory   \n",
       "92                             Vampires             math, probability theory   \n",
       "399                       Counting Game                               ad hoc   \n",
       "925       Marianne and The Twin Cousins                              unknown   \n",
       "649            Black and White Painting                                 math   \n",
       "530                    Fibonacci Again!                   linear recurrences   \n",
       "1148  The Uncle Phill Bonati's Sequence                               unknow   \n",
       "1032                   Interest on Loan                       financial math   \n",
       "988                       Doing Nothing                              unknown   \n",
       "1231                  Pascal's Triangle                                 math   \n",
       "998              Ball of Reconciliation                                 math   \n",
       "659           Flavius Josephus Reloaded  int factorization, s.t. pollard rho   \n",
       "1217               The Fearful Evil-Son                            induction   \n",
       "\n",
       "         theta  \n",
       "197   0.612314  \n",
       "211   0.636474  \n",
       "220   0.644282  \n",
       "246   0.665393  \n",
       "239   0.698079  \n",
       "213   0.738892  \n",
       "196   0.740795  \n",
       "212   0.790728  \n",
       "232   0.823279  \n",
       "456   0.826723  \n",
       "629   0.842293  \n",
       "696   0.883219  \n",
       "92    0.911345  \n",
       "399   0.939985  \n",
       "925   0.967299  \n",
       "649   0.980136  \n",
       "530   1.016963  \n",
       "1148  1.032960  \n",
       "1032  1.046243  \n",
       "988   1.106505  \n",
       "1231  1.123183  \n",
       "998   1.144454  \n",
       "659   1.185718  \n",
       "1217  1.235798  "
      ]
     },
     "execution_count": 692,
     "metadata": {},
     "output_type": "execute_result"
    }
   ],
   "source": [
    "thetas = get_thetas(solutions_df)\n",
    "problems_df = get_problems_from_thetas(thetas)\n",
    "problems_solved = simulate_user(thetas)\n",
    "problems_solved_df = add_theta_to_dataset(problems_solved, thetas)\n",
    "problems_solved_df"
   ]
  },
  {
   "cell_type": "markdown",
   "metadata": {},
   "source": [
    "# Ordem crescente de dificuldade"
   ]
  },
  {
   "cell_type": "code",
   "execution_count": 689,
   "metadata": {},
   "outputs": [
    {
     "data": {
      "image/png": "[encoded data removed]",
      "text/plain": [
       "<matplotlib.figure.Figure at 0x7f1f47b05828>"
      ]
     },
     "execution_count": 689,
     "metadata": {},
     "output_type": "execute_result"
    }
   ],
   "source": [
    "fig = plt.figure()\n",
    "for i, problem in enumerate(problems_solved):\n",
    "    x = i\n",
    "    y = problems_solved_df[problems_solved_df['problem_id'] == problem]['level'].values[0]\n",
    "    c = COLORS[y]\n",
    "    plt.scatter(x, y, c=c)\n",
    "\n",
    "\n",
    "plt.title('')\n",
    "plt.xlabel('n-ésimo problema sugerido')\n",
    "plt.ylabel('nível')\n",
    "\n",
    "fig"
   ]
  },
  {
   "cell_type": "markdown",
   "metadata": {},
   "source": [
    "# Trajetória"
   ]
  },
  {
   "cell_type": "code",
   "execution_count": 691,
   "metadata": {},
   "outputs": [
    {
     "data": {
      "image/png": "[encoded data removed]",
      "text/plain": [
       "<matplotlib.figure.Figure at 0x7f1f4c9a6978>"
      ]
     },
     "metadata": {},
     "output_type": "display_data"
    }
   ],
   "source": [
    "plt.close('all')\n",
    "fig = plt.figure()\n",
    "\n",
    "xs = []\n",
    "ys = []\n",
    "\n",
    "\n",
    "# Trajectory\n",
    "for problem in problems_solved:\n",
    "    x, y = thetas[problem][:2]\n",
    "    xs.append(x)\n",
    "    ys.append(y)\n",
    "\n",
    "plt.plot(xs, ys)\n",
    "\n",
    "\n",
    "# Radius\n",
    "for problem in problems_solved:\n",
    "    x, y = thetas[problem][:2]\n",
    "    c1 = plt.Circle((x, y), AGGRESSIVITY_RADIUS, color='red', fill=False, linestyle='dashed')\n",
    "    plt.gcf().gca().add_artist(c1)\n",
    "\n",
    "\n",
    "# Problems\n",
    "for problem in thetas.keys():\n",
    "    x, y = thetas[problem][:2]\n",
    "    c = COLORS[problems_df[problems_df['problem_id'] == problem]['level'].values[0]]\n",
    "    \n",
    "    if problem in problems_solved:\n",
    "        c = 'red'\n",
    "\n",
    "    plt.scatter(x, y, c=c)\n",
    "\n",
    "\n",
    "plt.show()"
   ]
  },
  {
   "cell_type": "markdown",
   "metadata": {},
   "source": [
    "# Problemas semelhantes"
   ]
  },
  {
   "cell_type": "code",
   "execution_count": 611,
   "metadata": {},
   "outputs": [
    {
     "data": {
      "image/png": "[encoded data removed]",
      "text/plain": [
       "<matplotlib.figure.Figure at 0x7f1f4cde7710>"
      ]
     },
     "execution_count": 611,
     "metadata": {},
     "output_type": "execute_result"
    }
   ],
   "source": [
    "dfs_problems = [1706, 1469, 1907, 1322]\n",
    "# solutions_df = load_solutions()\n",
    "\n",
    "# vs = []\n",
    "# fs = []\n",
    "\n",
    "# for nr_features in range(1,100):\n",
    "#     NR_FEATURES = nr_features    \n",
    "#     thetas = get_thetas(solutions_df)\n",
    "#     selected_thetas = [thetas[t] for t in dfs_problems]\n",
    "#     variance = np.array(selected_thetas).std(axis=0).mean()\n",
    "\n",
    "#     vs.append(variance)\n",
    "#     fs.append(nr_features)\n",
    "#     print(nr_features)\n",
    "\n",
    "fig = plt.figure()\n",
    "plt.plot(fs, vs)\n",
    "plt.title('Dispersão entre problemas de mesmo tópico - DFS')\n",
    "plt.ylabel('Média da variância')\n",
    "plt.xlabel('Número de features')\n",
    "fig"
   ]
  },
  {
   "cell_type": "code",
   "execution_count": 614,
   "metadata": {},
   "outputs": [],
   "source": [
    "def simulate():\n",
    "    solutions_df = load_solutions()\n",
    "    thetas = get_thetas(solutions_df)\n",
    "    problems_solved = simulate_user(thetas)"
   ]
  }
 ],
 "metadata": {
  "kernelspec": {
   "display_name": "Python 3",
   "language": "python",
   "name": "python3"
  }
 },
 "nbformat": 4,
 "nbformat_minor": 2
}
