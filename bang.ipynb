{
 "cells": [
  {
   "cell_type": "markdown",
   "metadata": {},
   "source": [
    "# Capítulo 1 - O Problema\n",
    "\n",
    "Temos no CEFET MG um grupo chamado Grupo de Computação Competitiva (GCC) que tem como uma de suas atividades a participação na maratona de programação.\n",
    "\n",
    "A maratona de programação é uma competição onde equipes competem entre si em um período de tempo pré determinado a tentar resolver o maior número de problema em menos tempo.\n",
    "\n",
    "O objetivo deste trabalho, é desenvolver um algoritmo de recomendação que ajude no treinamento dos competidores para a preparação para a maratona de programação.\n",
    "\n",
    "Atualmente, o treinamento funciona da seguinte maneira. Existem alguns sites, chamados de juízes online, que funcionam como um repositório de problemas. O competidor então consegue ler o problema, desenvolver uma solução e submete-la para o juiz. O juiz então dará a resposta se a solução foi aceita ou não.\n",
    "\n",
    "O problema do treinamento atual é que existem milhares de problemas a serem resolvidos. Isso faz com que o competidor perca tempo em problemas que não acrescentem em conteúdo para o seu desenvolvimento, ou então, escolha problemas muito difíceis para serem resolvidos, o que torna seu treinamento desmotivador."
   ]
  },
  {
   "cell_type": "markdown",
   "metadata": {},
   "source": [
    "\n",
    "# Capítulo 2 - Dataset\n",
    "\n",
    "\n",
    "Foram coletados do site URI Online Judge, mais de 200 mil soluções de mais de 600 usuários. Cada solução é composta por:\n",
    "\n",
    " - **user_id**: usuário que resolveu o problema\n",
    " - **problem_id**: problema que foi resolvido\n",
    " - **date**: data de quando o problema foi resolvido\n",
    " - **category_id**: categoria do problema resolvido\n",
    " - **level**: dificuldade do problema resolvido\n",
    " - **solved**: quantidade total de usuários do juiz que resolveram o problema\n",
    " - **name**: nome do problema\n",
    " - **topics**: assuntos relacionados ao conteúdo do problema"
   ]
  },
  {
   "cell_type": "code",
   "execution_count": 1,
   "metadata": {},
   "outputs": [
    {
     "data": {
      "text/html": [
       "<div>\n",
       "<style scoped>\n",
       "    .dataframe tbody tr th:only-of-type {\n",
       "        vertical-align: middle;\n",
       "    }\n",
       "\n",
       "    .dataframe tbody tr th {\n",
       "        vertical-align: top;\n",
       "    }\n",
       "\n",
       "    .dataframe thead th {\n",
       "        text-align: right;\n",
       "    }\n",
       "</style>\n",
       "<table border=\"1\" class=\"dataframe\">\n",
       "  <thead>\n",
       "    <tr style=\"text-align: right;\">\n",
       "      <th></th>\n",
       "      <th>user_id</th>\n",
       "      <th>problem_id</th>\n",
       "      <th>date</th>\n",
       "      <th>category_id</th>\n",
       "      <th>level</th>\n",
       "      <th>solved</th>\n",
       "      <th>name</th>\n",
       "      <th>topics</th>\n",
       "    </tr>\n",
       "  </thead>\n",
       "  <tbody>\n",
       "    <tr>\n",
       "      <th>0</th>\n",
       "      <td>40980</td>\n",
       "      <td>1001</td>\n",
       "      <td>15/02/25 06:15</td>\n",
       "      <td>1</td>\n",
       "      <td>1</td>\n",
       "      <td>127331</td>\n",
       "      <td>Extremely Basic</td>\n",
       "      <td>sequential</td>\n",
       "    </tr>\n",
       "    <tr>\n",
       "      <th>1</th>\n",
       "      <td>40980</td>\n",
       "      <td>1002</td>\n",
       "      <td>15/02/25 07:10</td>\n",
       "      <td>1</td>\n",
       "      <td>1</td>\n",
       "      <td>87459</td>\n",
       "      <td>Area of a Circle</td>\n",
       "      <td>sequential</td>\n",
       "    </tr>\n",
       "    <tr>\n",
       "      <th>2</th>\n",
       "      <td>40980</td>\n",
       "      <td>1003</td>\n",
       "      <td>15/02/25 06:17</td>\n",
       "      <td>1</td>\n",
       "      <td>1</td>\n",
       "      <td>89856</td>\n",
       "      <td>Simple Sum</td>\n",
       "      <td>sequential</td>\n",
       "    </tr>\n",
       "    <tr>\n",
       "      <th>3</th>\n",
       "      <td>40980</td>\n",
       "      <td>1004</td>\n",
       "      <td>15/02/25 06:19</td>\n",
       "      <td>1</td>\n",
       "      <td>1</td>\n",
       "      <td>85938</td>\n",
       "      <td>Simple Product</td>\n",
       "      <td>sequential</td>\n",
       "    </tr>\n",
       "    <tr>\n",
       "      <th>4</th>\n",
       "      <td>40980</td>\n",
       "      <td>1005</td>\n",
       "      <td>15/02/25 07:31</td>\n",
       "      <td>1</td>\n",
       "      <td>1</td>\n",
       "      <td>73427</td>\n",
       "      <td>Average 1</td>\n",
       "      <td>sequential</td>\n",
       "    </tr>\n",
       "  </tbody>\n",
       "</table>\n",
       "</div>"
      ],
      "text/plain": [
       "   user_id  problem_id            date  category_id  level  solved  \\\n",
       "0    40980        1001  15/02/25 06:15            1      1  127331   \n",
       "1    40980        1002  15/02/25 07:10            1      1   87459   \n",
       "2    40980        1003  15/02/25 06:17            1      1   89856   \n",
       "3    40980        1004  15/02/25 06:19            1      1   85938   \n",
       "4    40980        1005  15/02/25 07:31            1      1   73427   \n",
       "\n",
       "               name      topics  \n",
       "0   Extremely Basic  sequential  \n",
       "1  Area of a Circle  sequential  \n",
       "2        Simple Sum  sequential  \n",
       "3    Simple Product  sequential  \n",
       "4         Average 1  sequential  "
      ]
     },
     "execution_count": 1,
     "metadata": {},
     "output_type": "execute_result"
    }
   ],
   "source": [
    "import pandas as pd\n",
    "import numpy as np\n",
    "from datetime import datetime\n",
    "\n",
    "def datefunc(date):\n",
    "    d = datetime.strptime(date,'%m/%d/%y, %I:%M:%S %p')\n",
    "    return d.strftime('%y/%m/%d %I:%M')\n",
    "\n",
    "solutions_df = pd.read_csv('solutions.csv', delimiter='\\t', converters={'date': datefunc})\n",
    "solutions_df[:5]"
   ]
  },
  {
   "cell_type": "markdown",
   "metadata": {},
   "source": [
    "Quantidade de soluções do dataset:"
   ]
  },
  {
   "cell_type": "code",
   "execution_count": 2,
   "metadata": {},
   "outputs": [
    {
     "data": {
      "text/plain": [
       "218619"
      ]
     },
     "execution_count": 2,
     "metadata": {},
     "output_type": "execute_result"
    }
   ],
   "source": [
    "len(solutions_df)"
   ]
  },
  {
   "cell_type": "markdown",
   "metadata": {},
   "source": [
    "Quantidade de problemas do dataset:"
   ]
  },
  {
   "cell_type": "code",
   "execution_count": 3,
   "metadata": {},
   "outputs": [
    {
     "data": {
      "text/plain": [
       "1461"
      ]
     },
     "execution_count": 3,
     "metadata": {},
     "output_type": "execute_result"
    }
   ],
   "source": [
    "solutions_df['problem_id'].nunique()"
   ]
  },
  {
   "cell_type": "markdown",
   "metadata": {},
   "source": [
    "Quantidade de usuários do dataset:"
   ]
  },
  {
   "cell_type": "code",
   "execution_count": 4,
   "metadata": {},
   "outputs": [
    {
     "data": {
      "text/plain": [
       "618"
      ]
     },
     "execution_count": 4,
     "metadata": {},
     "output_type": "execute_result"
    }
   ],
   "source": [
    "solutions_df['user_id'].nunique()"
   ]
  },
  {
   "cell_type": "markdown",
   "metadata": {},
   "source": [
    "Quantidade de categorias do dataset:"
   ]
  },
  {
   "cell_type": "code",
   "execution_count": 5,
   "metadata": {},
   "outputs": [
    {
     "data": {
      "text/plain": [
       "8"
      ]
     },
     "execution_count": 5,
     "metadata": {},
     "output_type": "execute_result"
    }
   ],
   "source": [
    "solutions_df['category_id'].nunique()"
   ]
  },
  {
   "cell_type": "markdown",
   "metadata": {},
   "source": [
    "# Capítulo 3 - Tratamento dos dados\n",
    "\n",
    "Ainda não é necessário."
   ]
  },
  {
   "cell_type": "markdown",
   "metadata": {},
   "source": [
    "# Capítulo 4 - Desenvolvimento\n",
    "\n",
    "Uma série de técnicas de Machine Learning serão utilizadas a fim de obter o resultado final. Serão aqui descritas passo a passo, os procedimentos adotados.\n",
    "\n",
    "obs: cada exemplo poderia conter o link de um problema\n",
    "\n",
    "- storytelling\n",
    "\n",
    "Em todo período acadêmico, o conteúdo aprendido é desenvolvido de forma gradual. Como as aulas de cálculo, onde temos o estudo de funções, limites, derivadas e integrais. Todo o conteúdo aprendido inicialmente é usado como base para os demais.\n",
    "\n",
    "Da mesma forma funciona o treinamento para a maratona de programação. Primeiramente temos os problemas que envolvem estruturas de dados, como listas encadeadas. Posteriormente lidamos com árvores, grafos e etc.\n",
    "\n",
    "Com isso podemos supor que todos os problemas resolvidos contribuem com o aprendizado do competidor em algum tópico. E ai está o nosso primeiro problema: **Identificar os tópicos necessários a se saber para a solução de um problema**\n",
    "\n",
    "Tendo isso em mente, essa será a primeira tarefa desenvolvida. Para isso faremos o seguinte.\n",
    "\n",
    "Seja p um problema e u um usuario do nosso dataset. Serão filtradas todas as soluções submetidas pelo usuário u antes da solução do problema p. Isso nos permitirá identificar quais os tópicos que foram desenvolvidos pelo usuário u que o capacitaram a solucionar o problema p.\n",
    "\n",
    "Para isso iremos utilizar a técnica de Collaborative Filtering.\n",
    "\n",
    "## Colaborative Filtering\n",
    "\n",
    "Imagine um dataset composto por avaliações de filmes, onde cada usuário avalia um filme em uma nota entre 1 e 5. Teriamos uma tabela da seguinte forma:\n",
    "\n",
    "| Filmes  | Ana | Beth | Carlos | Davi |\n",
    "|---------|:---:|:----:|:------:|:----:|\n",
    "| Querido John |  5  |   5  |    0   |   0  |\n",
    "| Titanic |  5  |   5  |    0   |   0  |\n",
    "| Batman |  0  |   0  |    5   |   5  |\n",
    "| Thor |  0  |   0  |    5   |   5  |\n",
    "\n",
    "Baseado na avaliação dos usuários podemos encontrar o gênero de cada filme.\n",
    "\n",
    "| Filmes  | Ana | Beth | Carlos | Davi | Ação | Romance|\n",
    "|---------|:--:|:--:|:--:|:--:|:--:|:--:|\n",
    "| Querido John | 5 | 5 | 0 | 0 | ? | ? |\n",
    "| Titanic | 5 | 5 | 0 | 0 | ? | ? |\n",
    "| Batman | 0 | 0 | 5 | 5 | ? | ? |\n",
    "| Thor | 0 | 0 | 5 | 5 | ? | ? |"
   ]
  },
  {
   "cell_type": "markdown",
   "metadata": {},
   "source": [
    "Para que isso seja possível, existe um vetor de preferênca de cada usuário $\\theta$ que indica o quanto cada usuário gosta de cada gênero de filme. E cada filme tem um vetor $X$ corresponde a quanto o filme pertence ao gênero indicado.\n",
    "\n",
    "Podemos então estimar um valor de $\\theta$ dos usuários a fim de descobrir o valor de $X$. Daí fazemos o contrário. É quase uma questão de quem nasceu primeiro, o ovo ou a galinha."
   ]
  },
  {
   "cell_type": "markdown",
   "metadata": {},
   "source": [
    "Descrever o algoritmo e o exemplo pra provar que funciona. :)"
   ]
  },
  {
   "cell_type": "markdown",
   "metadata": {},
   "source": [
    "```\n",
    "Pegar os problemas.\n",
    "Para cada problema p em problemas:\n",
    " Pegar os usuarios que resolveram o problema p\n",
    " Para cada usuario\n",
    "  Pegar os problemas resolvidos antes do problema p\n",
    "  \n",
    " tranformar isso em uma matriz problema x usuario\n",
    " rodar o algoritmo\n",
    " salvar o resultado\n",
    " ```"
   ]
  },
  {
   "cell_type": "code",
   "execution_count": 9,
   "metadata": {},
   "outputs": [],
   "source": [
    "def get_solution_date(solutions_df, user_id, problem_id):\n",
    "    solution = solutions_df[(solutions_df['problem_id'] == problem_id) & (solutions_df['user_id'] == user_id)]\n",
    "    solution_date = solution['date'].values[0]\n",
    "\n",
    "    return solution_date\n",
    "\n",
    "\n",
    "def get_past_problems(solutions_df, user_id, problem_id):\n",
    "    solution_date = get_solution_date(solutions_df, user_id, problem_id)\n",
    "    past_solutions = solutions_df[(solutions_df['date'] < solution_date) & (solutions_df['user_id'] == user_id)]\n",
    "    problems = past_solutions['problem_id']\n",
    "\n",
    "    return list(problems)\n",
    "\n",
    "\n",
    "def get_users_that_solved_the_problem(solutions_df, problem_id):\n",
    "    solutions_of_the_problem_df = solutions_df[solutions_df['problem_id'] == problem_id]\n",
    "    users = solutions_of_the_problem_df['user_id']\n",
    "    \n",
    "    return list(users)\n",
    "\n",
    "\n",
    "def get_problems(solutions_df):\n",
    "    problems = set(solutions_df['problem_id'])\n",
    "\n",
    "    return list(problems)\n",
    "\n",
    "\n",
    "def get_solution_matrix(solutions_df, problem):\n",
    "    users = get_users_that_solved_the_problem(solutions_df, problem)\n",
    "\n",
    "    solutions = []\n",
    "    min_problem = 9999\n",
    "    max_problem = 0\n",
    "\n",
    "    for user in users:\n",
    "        past_problems = get_past_problems(solutions_df, user, problem)\n",
    "\n",
    "        solutions.append(past_problems)\n",
    "\n",
    "        min_problem = min([min_problem] + past_problems)\n",
    "        max_problem = max([max_problem] + past_problems)\n",
    "\n",
    "    nr_problems = max_problem - min_problem + 1\n",
    "    nr_users = len(users)\n",
    "    matrix = np.zeros((nr_problems, nr_users))\n",
    "\n",
    "    for user in range(nr_users):\n",
    "        for problem in solutions[user]:\n",
    "            problem_index = problem - min_problem\n",
    "            try:\n",
    "                matrix[problem_index][user] = 1 # ou level do problema\n",
    "            except:\n",
    "                import pdb; pdb.set_trace()\n",
    "    return matrix\n",
    "\n",
    "\n",
    "# http://www.bogotobogo.com/python/python_numpy_batch_gradient_descent_algorithm.php\n",
    "def gradient_descent(x, y, alpha=0.01, nr_iterations=1000):\n",
    "\n",
    "    # m - número de amostras\n",
    "    # n - número features\n",
    "    m, n = x.shape\n",
    "\n",
    "    # Insere coluna theta zero = 1\n",
    "    x = np.c_[ np.ones(m), x]\n",
    "\n",
    "    theta = np.ones(n + 1)\n",
    "    x_transpose = x.transpose()\n",
    "\n",
    "    for iter in range(0, nr_iterations):\n",
    "        hypothesis = np.dot(x, theta)\n",
    "        loss = hypothesis - y\n",
    "        J = np.sum(loss ** 2) / (2 * m)\n",
    "        gradient = np.dot(x_transpose, loss) / m         \n",
    "        theta = theta - alpha * gradient\n",
    "\n",
    "    return theta\n",
    "\n",
    "\n",
    "NR_FEATURES = 4\n",
    "\n",
    "def get_theta_of_problem(matrix):\n",
    "    nr_problems, nr_users = matrix.shape\n",
    "\n",
    "    theta_users = np.random.rand(nr_users, NR_FEATURES)\n",
    "    theta_problems = np.zeros((nr_problems, NR_FEATURES))\n",
    "\n",
    "\n",
    "    # matrix\n",
    "    #     u1  u2  u3\n",
    "    # p1   1\n",
    "    # p2   1  1    1\n",
    "    # p3      1\n",
    "\n",
    "    matrix_t = np.transpose(matrix)\n",
    "    \n",
    "    print('nr_problems', nr_problems)\n",
    "    print('nr_users', nr_users)\n",
    "    \n",
    "    \n",
    "    i = 0\n",
    "    while i < 10:\n",
    "        i += 1\n",
    "        print(i)\n",
    "\n",
    "        for problem in range(nr_problems):\n",
    "            x = np.array(\n",
    "                theta_users\n",
    "            )\n",
    "\n",
    "            y = np.array(\n",
    "                matrix[problem]\n",
    "            )\n",
    "            \n",
    "            print('.', end='', flush=True)\n",
    "\n",
    "            theta_problems[problem] = gradient_descent(x, y)[1:]\n",
    "\n",
    "        for user in range(nr_users):\n",
    "            x = np.array(\n",
    "                theta_problems\n",
    "            )\n",
    "\n",
    "            y = np.array(\n",
    "                matrix_t[user]\n",
    "            )\n",
    "            \n",
    "            print(',', end='', flush=True)\n",
    "\n",
    "            theta_users[user] = gradient_descent(x, y)[1:]\n",
    "\n",
    "        print(theta_problems)\n",
    "    \n",
    "    return theta_problems"
   ]
  },
  {
   "cell_type": "code",
   "execution_count": null,
   "metadata": {},
   "outputs": [
    {
     "name": "stdout",
     "output_type": "stream",
     "text": [
      "nr_problems 1491\n",
      "nr_users 618\n",
      "1\n",
      "...................................................................................................................................................................................................................................................................................................................................................................................................................................................................................................................................................................................................................................................................................................................................................................................................................................................................................................................................................................................................................................................................................................................................................................................................................................................................................................................................................................................................................................................................................................................................................,,,,,,,,,,,,,,,,,,,,,,,,,,,,,,,,,,,,,,,,,,,,,,,,,,,,,,,,,,,,,,,,,,,,,,,,,,,,,,,,,,,,,,,,,,,,,,,,,,,,,,,,,,,,,,,,,,,,,,,,,,,,,,,,,,,,,,,,,,,,,,,,,,,,,,,,,,,,,,,,,,,,,,,,,,,,,,,,,,,,,,,,,,,,,,,,,,,,,,,,,,,,,,,,,,,,,,,,,,,,,,,,,,,,,,,,,,,,,,,,,,,,,,,,,,,,,,,,,,,,,,,,,,,,,,,,,,,,,,,,,,,,,,,,,,,,,,,,,,,,,,,,,,,,,,,,,,,,,,,,,,,,,,,,,,,,,,,,,,,,,,,,,,,,,,,,,,,,,,,,,,,,,,,,,,,,,,,,,,,,,,,,,,,,,,,,,,,,,,,,,,,,,,,,,,,,,,,,,,,,,,,,,,,,,,,,,,,,,,,,,,,,,,,,,,,,,,,,,,,,,,,,,,,,,,,,,,,,,,,,,,,,,,,,,,,,,,,,,,,,,,,,,,,,,,,,,,,,,,,,,,,,,,,,,,,,,,,,,,,,,,,,,,,,,,,,,,,,,,,,,,,,,,,,,,,,,,,,,,,,,,,,,,,,,,,,,,,,,,,,,,,,,,,,,,,,,,,,,,[[ 0.18799009  0.16470705  0.14228141  0.15284684]\n",
      " [ 0.20767249  0.1414718   0.16513352  0.15307856]\n",
      " [ 0.22227106  0.13795214  0.1480774   0.13360316]\n",
      " ..., \n",
      " [ 0.16025163  0.15036983  0.14853384  0.15278253]\n",
      " [ 0.16025163  0.15036983  0.14853384  0.15278253]\n",
      " [ 0.15907649  0.15362766  0.14782888  0.14942605]]\n",
      "2\n",
      "...................................................................................................................................................................................................................................................................................................................................................................................................................................................................................................................................................................................................................................................................................................................................................................................................................................................................................................................................................................................................................................................................................................................................................................................................................................................................................................................................................................................................................................................................................................................................................,,,,,,,,,,,,,,,,,,,,,,,,,,,,,,,,,,,,,,,,,,,,,,,,,,,,,,,,,,,,,,,,,,,,,,,,,,,,,,,,,,,,,,,,,,,,,,,,,,,,,,,,,,,,,,,,,,,,,,,,,,,,,,,,,,,,,,,,,,,,,,,,,,,,,,,,,,,,,,,,,,,,,,,,,,,,,,,,,,,,,,,,,,,,,,,,,,,,,,,,,,,,,,,,,,,,,,,,,,,,,,,,,,,,,,,,,,,,,,,,,,,,,,,,,,,,,,,,,,,,,,,,,,,,,,,,,,,,,,,,,,,,,,,,,,,,,,,,,,,,,,,,,,,,,,,,,,,,,,,,,,,,,,,,,,,,,,,,,,,,,,,,,,,,,,,,,,,,,,,,,,,,,,,,,,,,,,,,,,,,,,,,,,,,,,,,,,,,,,,,,,,,,,,,,,,,,,,,,,,,,,,,,,,,,,,,,,,,,,,,,,,,,,,,,,,,,,,,,,,,,,,,,,,,,,,,,,,,,,,,,,,,,,,,,,,,,,,,,,,,,,,,,,,,,,,,,,,,,,,,,,,,,,,,,,,,,,,,,,,,,,,,,,,,,,,,,,,,,,,,,,,,,,,,,,,,,,,,,,,,,,,,,,,,,,,,,,,,,,,,,,,,,,,,,,,,,,,,,,[[ 0.10154427  0.08806408  0.07889107  0.08353199]\n",
      " [ 0.10961841  0.09476373  0.08542547  0.08984516]\n",
      " [ 0.1081403   0.09253195  0.08271785  0.08721545]\n",
      " ..., \n",
      " [ 0.07686874  0.06621715  0.05878777  0.06362967]\n",
      " [ 0.07686874  0.06621715  0.05878777  0.06362967]\n",
      " [ 0.07775313  0.06709814  0.05937558  0.06418861]]\n",
      "3\n",
      "...................................................................................................................................................................................................................................................................................................................................................................................................................................................................................................................................................................................................................................................................................................................................................................................................................................................................................................................................................................................................................................................................................................................................................................................................................................................................................................................................................................................................................................................................................................................................................,,,,,,,,,,,,,,,,,,,,,,,,,,,,,,,,,,,,,,,,,,,,,,,,,,,,,,,,,,,,,,,,,,,,,,,,,,,,,,,,,,,,,,,,,,,,,,,,,,,,,,,,,,,,,,,,,,,,,,,,,,,,,,,,,,,,,,,,,,,,,,,,,,,,,,,,,,,,,,,,,,,,,,,,,,,,,,,,,,,,,,,,,,,,,,,,,,,,,,,,,,,,,,,,,,,,,,,,,,,,,,,,,,,,,,,,,,,,,,,,,,,,,,,,,,,,,,,,,,,,,,,,,,,,,,,,,,,,,,,,,,,,,,,,,,,,,,,,,,,,,,,,,,,,,,,,,,,,,,,,,,,,,,,,,,,,,,,,,,,,,,,,,,,,,,,,,,,,,,,,,,,,,,,,,,,,,,,,,,,,,,,,,,,,,,,,,,,,,,,,,,,,,,,,,,,,,,,,,,,,,,,,,,,,,,,,,,,,,,,,,,,,,,,,,,,,,,,,,,,,,,,,,,,,,,,,,,,,,,,,,,,,,,,,,,,,,,,,,,,,,,,,,,,,,,,,,,,,,,,,,,,,,,,,,,,,,,,,,,,,,,,,,,,,,,,,,,,,,,,,,,,,,,,,,,,,,,,,,,,,,,,,,,,,,,,,,,,,,,,,,,,,,,,,,,,,,,,,,,[[ 0.05520642  0.03981113  0.02834327  0.03501827]\n",
      " [ 0.06173104  0.04620421  0.03465097  0.04131042]\n",
      " [ 0.05983415  0.04407187  0.03232119  0.03904381]\n",
      " ..., \n",
      " [ 0.03481246  0.02011515  0.00926276  0.01583146]\n",
      " [ 0.03481246  0.02011515  0.00926276  0.01583146]\n",
      " [ 0.03545787  0.02064416  0.00968422  0.01629637]]\n",
      "4\n"
     ]
    },
    {
     "name": "stdout",
     "output_type": "stream",
     "text": [
      "...................................................................................................................................................................................................................................................................................................................................................................................................................................................................................................................................................................................................................................................................................................................................................................................................................................................................................................................................................................................................................................................................................................................................................................................................................................................................................................................................................................................................................................................................................................................................................,,,,,,,,,,,,,,,,,,,,,,,,,,,,,,,,,,,,,,,,,,,,,,,,,,,,,,,,,,,,,,,,,,,,,,,,,,,,,,,,,,,,,,,,,,,,,,,,,,,,,,,,,,,,,,,,,,,,,,,,,,,,,,,,,,,,,,,,,,,,,,,,,,,,,,,,,,,,,,,,,,,,,,,,,,,,,,,,,,,,,,,,,,,,,,,,,,,,,,,,,,,,,,,,,,,,,,,,,,,,,,,,,,,,,,,,,,,,,,,,,,,,,,,,,,,,,,,,,,,,,,,,,,,,,,,,,,,,,,,,,,,,,,,,,,,,,,,,,,,,,,,,,,,,,,,,,,,,,,,,,,,,,,,,,,,,,,,,,,,,,,,,,,,,,,,,,,,,,,,,,,,,,,,,,,,,,,,,,,,,,,,,,,,,,,,,,,,,,,,,,,,,,,,,,,,,,,,,,,,,,,,,,,,,,,,,,,,,,,,,,,,,,,,,,,,,,,,,,,,,,,,,,,,,,,,,,,,,,,,,,,,,,,,,,,,,,,,,,,,,,,,,,,,,,,,,,,,,,,,,,,,,,,,,,,,,,,,,,,,,,,,,,,,,,,,,,,,,,,,,,,,,,,,,,,,,,,,,,,,,,,,,,,,,,,,,,,,,,,,,,,,,,,,,,,,,,,,,,,[[ 0.04073208  0.02377379  0.01114474  0.01862941]\n",
      " [ 0.04683737  0.02985626  0.017204    0.0246863 ]\n",
      " [ 0.04486324  0.02769857  0.01490212  0.02245589]\n",
      " ..., \n",
      " [ 0.02183285  0.00533053 -0.00692472  0.00040348]\n",
      " [ 0.02183285  0.00533053 -0.00692472  0.00040348]\n",
      " [ 0.02237085  0.00573467 -0.00662318  0.00076173]]\n",
      "5\n",
      ".................................................................................................................................................................................................................................................................................................................................................................................................................................................................................................................................................................................................................................................................................................................................................................................................................................................................."
     ]
    }
   ],
   "source": [
    "matrix = get_solution_matrix(solutions_df, 1001)\n",
    "get_theta_of_problem(matrix)"
   ]
  }
 ],
 "metadata": {
  "kernelspec": {
   "display_name": "Python 3",
   "language": "python",
   "name": "python3"
  },
  "language_info": {
   "codemirror_mode": {
    "name": "ipython",
    "version": 3
   },
   "file_extension": ".py",
   "mimetype": "text/x-python",
   "name": "python",
   "nbconvert_exporter": "python",
   "pygments_lexer": "ipython3",
   "version": "3.6.3"
  }
 },
 "nbformat": 4,
 "nbformat_minor": 2
}
