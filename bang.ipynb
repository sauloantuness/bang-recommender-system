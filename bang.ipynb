{
 "cells": [
  {
   "cell_type": "markdown",
   "metadata": {},
   "source": [
    "# O Problema\n",
    "\n",
    "Temos no CEFET MG o grupo Grupo de Computação Competitiva (GCC) que tem como uma de suas atividades a participação na maratona de programação.\n",
    "\n",
    "A maratona de programação é uma competição onde equipes competem entre si em um período de tempo pré determinado a tentar resolver o maior número de problema em menos tempo.\n",
    "\n",
    "O objetivo deste trabalho, é desenvolver um algoritmo de recomendação que ajude no treinamento dos competidores para a preparação para a maratona de programação.\n",
    "\n",
    "Atualmente, o treinamento funciona da seguinte maneira. Existem alguns sites, chamados de juízes online, que funcionam como um repositório de problemas. O competidor então consegue ler o problema, desenvolver uma solução e submete-la para o juiz. O juiz então dará a resposta se a solução foi aceita ou não.\n",
    "\n",
    "O problema do treinamento atual é que existem milhares de problemas a serem resolvidos. Isso faz com que o competidor perca tempo em problemas que não acrescentem em conteúdo para o seu desenvolvimento, ou então, escolha problemas muito difíceis para serem resolvidos, o que torna seu treinamento desmotivador."
   ]
  },
  {
   "cell_type": "markdown",
   "metadata": {},
   "source": [
    "# Introdução\n",
    "\n",
    "Neste capítulo, será descrito em detalhes, a fase de coleta de dados, definição e treinamento do modelo e implementação da solução proposta.\n",
    "\n"
   ]
  },
  {
   "cell_type": "markdown",
   "metadata": {},
   "source": [
    "# Dataset\n",
    "\n",
    "## A fonte\n",
    "\n",
    "A primeira decisão a ser tomada foi na escolha de qual juiz online utilizar como fonte de informações. Algumas considerações foram feitas a fim de decidir o juiz, dentre elas:\n",
    "\n",
    " - O juiz a ser escolhido deve ser frequentemente utilizado pelos alunos do GCC, uma vez que são os principais usuários do sistema.\n",
    " - O juiz deve possuir informações relevantes sobre os problemas em seu repositório, como dificuldade e categoria que será utilizado posteriormente como forma de validação do modelo.\n",
    " - O juiz deve possuir um número quantitativamente relevante para a coleta.\n",
    " - O juiz deve permitir a coleta das informações.\n",
    " \n",
    "Os critérios definidos levaram a escolha do URI Online Judge. O URI é o juiz com mais problemas resolvidos pelos alunos do GCC, como pode ser visto no BANG. Seus problemas possuem nível de dificuldade, categoria, número de usuários únicos que o resolveram e em alguns problemas, é possível obter até o assunto que o problema aborda dentro daquela categoria. No ano de 2017, o URI atingiu a marca de 1656 problemas, 195329 usuários de 170 países e 7956566 submissões, como pode ser visto em (https://www.urionlinejudge.com.br/year-in-numbers/2017/2/). Todas essas informações são públicas e podem ser vistas no próprios site.\n",
    "\n",
    "## As informações\n",
    "\n",
    "Com o juiz definido, o próximo passo foi definir o que e o quanto de informações seriam adquiridas do juiz.\n",
    "\n",
    "No URI, cada usuário possui uma página de perfil que informa quando e quais problemas o usuário resolveu. Cada registro dessa página é conhecido como **solução**. Além dos perfis de usuários, existe também a página de problemas, onde é possível encontrar informações detalhadas de cada problema, como categoria, dificuldade e número usuários que conseguiram resolver o problema.\n",
    "\n",
    "Dessa forma, através das informações dos usuários e a descrição dos problemas, foi possível construir um dataset composto por um conjunto de soluções, onde cada solução é composta por:\n",
    "\n",
    " - **user_id**: usuário que resolveu o problema\n",
    " - **problem_id**: problema que foi resolvido\n",
    " - **date**: data de quando o problema foi resolvido\n",
    " - **category_id**: categoria do problema resolvido\n",
    " - **level**: dificuldade do problema resolvido\n",
    " - **solved**: quantidade total de usuários únicos do juiz que resolveram o problema\n",
    " - **name**: nome do problema\n",
    " - **topics**: assuntos relacionados ao conteúdo do problema\n",
    " \n",
    "Foi então coletado, as informações de todos os usuários que haviam resolvido pelo menos 300 problemas, cerca de 20% do número total de problemas disponíveis no juiz. A coleta resultou em um conjutno de soluções com 618 usuários e 218619 soluções."
   ]
  },
  {
   "cell_type": "code",
   "execution_count": 1,
   "metadata": {},
   "outputs": [],
   "source": [
    "import pandas as pd\n",
    "import numpy as np\n",
    "import matplotlib.pyplot as plt\n",
    "import json\n",
    "from scipy import spatial\n",
    "from datetime import datetime\n",
    "from pprint import pprint\n",
    "from IPython.display import clear_output\n",
    "from numpy.random import rand"
   ]
  },
  {
   "cell_type": "markdown",
   "metadata": {},
   "source": [
    "Configurações"
   ]
  },
  {
   "cell_type": "code",
   "execution_count": 2,
   "metadata": {},
   "outputs": [],
   "source": [
    "# 0 - All\n",
    "# 1 - Beginner\n",
    "# 2 - Ad-Hoc\n",
    "# 3 - String\n",
    "# 4 - Libraries\n",
    "# 5 - Math\n",
    "# 6 - Paradigms\n",
    "# 7 - Graph\n",
    "# 8 - Geometry\n",
    "\n",
    "CATEGORY = 7\n",
    "NR_FEATURES = 1\n",
    "NR_EPOCHS = 1\n",
    "NR_ITERATIONS = 1"
   ]
  },
  {
   "cell_type": "code",
   "execution_count": 3,
   "metadata": {},
   "outputs": [],
   "source": [
    "def read_dataset():\n",
    "    solutions_df = pd.read_csv('solutions_uva.csv')\n",
    "    if CATEGORY:\n",
    "        solutions_df = solutions_df.loc[solutions_df['category_id'] == CATEGORY]\n",
    "\n",
    "    return solutions_df"
   ]
  },
  {
   "cell_type": "code",
   "execution_count": 4,
   "metadata": {},
   "outputs": [
    {
     "data": {
      "text/html": [
       "<div>\n",
       "<style scoped>\n",
       "    .dataframe tbody tr th:only-of-type {\n",
       "        vertical-align: middle;\n",
       "    }\n",
       "\n",
       "    .dataframe tbody tr th {\n",
       "        vertical-align: top;\n",
       "    }\n",
       "\n",
       "    .dataframe thead th {\n",
       "        text-align: right;\n",
       "    }\n",
       "</style>\n",
       "<table border=\"1\" class=\"dataframe\">\n",
       "  <thead>\n",
       "    <tr style=\"text-align: right;\">\n",
       "      <th></th>\n",
       "      <th>user_id</th>\n",
       "      <th>problem_id</th>\n",
       "      <th>date</th>\n",
       "      <th>category_id</th>\n",
       "      <th>solved</th>\n",
       "      <th>name</th>\n",
       "      <th>starred</th>\n",
       "    </tr>\n",
       "  </thead>\n",
       "  <tbody>\n",
       "    <tr>\n",
       "      <th>0</th>\n",
       "      <td>3719</td>\n",
       "      <td>260</td>\n",
       "      <td>00/02/21 07:08</td>\n",
       "      <td>7</td>\n",
       "      <td>3361</td>\n",
       "      <td>Il Gioco dell'X</td>\n",
       "      <td>False</td>\n",
       "    </tr>\n",
       "    <tr>\n",
       "      <th>3</th>\n",
       "      <td>3719</td>\n",
       "      <td>383</td>\n",
       "      <td>00/02/21 07:48</td>\n",
       "      <td>7</td>\n",
       "      <td>2472</td>\n",
       "      <td>Shipping Routes</td>\n",
       "      <td>False</td>\n",
       "    </tr>\n",
       "    <tr>\n",
       "      <th>10</th>\n",
       "      <td>3719</td>\n",
       "      <td>200</td>\n",
       "      <td>00/03/09 08:49</td>\n",
       "      <td>7</td>\n",
       "      <td>5367</td>\n",
       "      <td>Rare Order</td>\n",
       "      <td>False</td>\n",
       "    </tr>\n",
       "    <tr>\n",
       "      <th>13</th>\n",
       "      <td>3719</td>\n",
       "      <td>532</td>\n",
       "      <td>00/03/09 10:08</td>\n",
       "      <td>7</td>\n",
       "      <td>5181</td>\n",
       "      <td>Dungeon Master</td>\n",
       "      <td>False</td>\n",
       "    </tr>\n",
       "    <tr>\n",
       "      <th>17</th>\n",
       "      <td>3719</td>\n",
       "      <td>247</td>\n",
       "      <td>00/03/19 01:32</td>\n",
       "      <td>7</td>\n",
       "      <td>2650</td>\n",
       "      <td>Calling Circles</td>\n",
       "      <td>True</td>\n",
       "    </tr>\n",
       "  </tbody>\n",
       "</table>\n",
       "</div>"
      ],
      "text/plain": [
       "    user_id  problem_id            date  category_id  solved             name  \\\n",
       "0      3719         260  00/02/21 07:08            7    3361  Il Gioco dell'X   \n",
       "3      3719         383  00/02/21 07:48            7    2472  Shipping Routes   \n",
       "10     3719         200  00/03/09 08:49            7    5367       Rare Order   \n",
       "13     3719         532  00/03/09 10:08            7    5181   Dungeon Master   \n",
       "17     3719         247  00/03/19 01:32            7    2650  Calling Circles   \n",
       "\n",
       "    starred  \n",
       "0     False  \n",
       "3     False  \n",
       "10    False  \n",
       "13    False  \n",
       "17     True  "
      ]
     },
     "execution_count": 4,
     "metadata": {},
     "output_type": "execute_result"
    }
   ],
   "source": [
    "solutions_df = read_dataset()\n",
    "solutions_df[:5]"
   ]
  },
  {
   "cell_type": "markdown",
   "metadata": {},
   "source": [
    "## Filtro\n",
    "\n",
    "De forma a otimizar o tempo  de execução do algoritmo na fase de desenvolvimento, foram utilizadas soluções referentes a uma única categoria."
   ]
  },
  {
   "cell_type": "markdown",
   "metadata": {},
   "source": [
    "Quantidade de soluções do dataset:"
   ]
  },
  {
   "cell_type": "code",
   "execution_count": 5,
   "metadata": {},
   "outputs": [
    {
     "data": {
      "text/plain": [
       "48428"
      ]
     },
     "execution_count": 5,
     "metadata": {},
     "output_type": "execute_result"
    }
   ],
   "source": [
    "len(solutions_df)"
   ]
  },
  {
   "cell_type": "markdown",
   "metadata": {},
   "source": [
    "Quantidade de problemas do dataset:"
   ]
  },
  {
   "cell_type": "code",
   "execution_count": 6,
   "metadata": {},
   "outputs": [
    {
     "data": {
      "text/plain": [
       "95"
      ]
     },
     "execution_count": 6,
     "metadata": {},
     "output_type": "execute_result"
    }
   ],
   "source": [
    "solutions_df['problem_id'].nunique()"
   ]
  },
  {
   "cell_type": "markdown",
   "metadata": {},
   "source": [
    "Quantidade de usuários do dataset:"
   ]
  },
  {
   "cell_type": "code",
   "execution_count": 7,
   "metadata": {},
   "outputs": [
    {
     "data": {
      "text/plain": [
       "1998"
      ]
     },
     "execution_count": 7,
     "metadata": {},
     "output_type": "execute_result"
    }
   ],
   "source": [
    "solutions_df['user_id'].nunique()"
   ]
  },
  {
   "cell_type": "markdown",
   "metadata": {},
   "source": [
    "Quantidade de categorias do dataset:"
   ]
  },
  {
   "cell_type": "code",
   "execution_count": 8,
   "metadata": {},
   "outputs": [
    {
     "data": {
      "text/plain": [
       "1"
      ]
     },
     "execution_count": 8,
     "metadata": {},
     "output_type": "execute_result"
    }
   ],
   "source": [
    "solutions_df['category_id'].nunique()"
   ]
  },
  {
   "cell_type": "markdown",
   "metadata": {},
   "source": [
    "# Modelo\n",
    "\n",
    "## Considerações iniciais\n",
    "\n",
    "obs: cada exemplo poderia conter o link de um problema no URI\n",
    "\n",
    "obs2: http://codeforces.com/blog/entry/47442\n",
    "\n",
    "O aprendizado é um processo gradativo, por se realizar por meio de operações crescentemente complexas. A cada aprendizagem novos elementos são acrescidos às experiências anteriores em dimensão gradativa e ascendente. Também se caracteriza por ser um processo cumulativo, visto que a experiência de aprendizagem atual utiliza-se das experiências anteriores. (http://producao.virtual.ufpb.br/books/edusantana/fundamentos-psicologicos-da-educacao-livro/livro/livro.chunked/ch06s03.html)\n",
    "\n",
    "Tal como as aulas de cálculo, onde começamos pelo o estudo de funções, passamos por limites e derivadas até finalmente o estudo das integrais. Da mesma forma acontece o treinamento para a maratona de programação. Por exemplo, no estudo de estruturas de dados, iniciamos com o estudo de estruturas de dados simples como pilhas e filas, seguido por estruturas como árvores e grafos até chegarmos em estruturas de dados complexas como a Segment Tree.\n",
    "\n",
    "Baseado nas informações acima citadas, podemos concluir que um competidor para resolver um problema mais complexo, necessita desenvolver conhecimentos fundamentais. E a partir desta conclusão temos o primeiro problema a ser resolvido por este trabalho: **Identificar os tópicos necessários a se saber para a solução de um problema**\n",
    "\n",
    "Tendo isso em mente, essa será a primeira tarefa desenvolvida. Para isso iremos utilizar a técnica de Collaborative Filtering.\n",
    "\n",
    "\n",
    "## Colaborative Filtering\n",
    "\n",
    "> A Colaborative Filtering é um método para fazer previsões automáticas (filtragem) sobre os interesses de um usuário, coletando preferências ou informações de gosto de muitos usuários (colaborando). O pressuposto subjacente da abordagem de filtragem colaborativa é que se uma pessoa A tiver a mesma opinião que uma pessoa B em um problema, é mais provável que a opinião de B seja diferente em relação a uma pessoa escolhida aleatoriamente. Por exemplo, um sistema de recomendação de filtragem colaborativa para os gostos da televisão poderia fazer previsões sobre o programa de televisão que um usuário deveria gostar, dado uma lista parcial dos gostos desse usuário (gosta ou não gosta).\n",
    "\n",
    "Imagine uma situação onde temos um dataset composto por avaliações de filmes. Cada avaliação é feita através de uma nota entre 1 e 5. Teriamos uma tabela da seguinte forma:\n",
    "\n",
    "| Filmes  | Ana | Beto | Carlos | Dani |\n",
    "|---------|:---:|:----:|:------:|:----:|\n",
    "| Querido John |  5  |   4  |    0   |   0  |\n",
    "| Titanic |  3  |   5  |    0   |   0  |\n",
    "| Batman |  0  |   0  |    4   |   5  |\n",
    "| Thor |  0  |   0  |    5   |   4  |\n",
    "\n",
    "As notas dadas aos filmes podem ser relacionadas as preferências do usuário em relação aos gêneros dos filmes. A alta nota de Beto ao filme Titanic pode ser justificada por Beto gostar de filmes de romance.\n",
    "\n",
    "Logo, se fossem conhecidos as caraterísticas dos filmes e as preferências do usuários, poderiamos prever uma avaliação de um filme por um usuário, e com isso, conseguir sugerir o melhor filme para o usuário.\n",
    "\n",
    "| Filme/Características | Ação | Romance |\n",
    "|---------|:--:|:--:|\n",
    "| Querido John | ? | ? |\n",
    "| Titanic | ? | ? |\n",
    "| Batman | ? | ? |\n",
    "| Thor | ? | ? |\n",
    "\n",
    "\n",
    "| Usuário/Preferência  | Ação | Romance |\n",
    "|:--:|:-:|:--:|\n",
    "| Ana | ? | ? |\n",
    "| Beto | ? | ? |\n",
    "| Carlos | ? | ? |\n",
    "| Dani | ? | ? |\n"
   ]
  },
  {
   "cell_type": "markdown",
   "metadata": {},
   "source": [
    "Podemos então representar cada filme com um vetor de **características** $X$ e cada usuário com um vetor de **preferências** $\\theta$ ambos de mesma dimensão. A nota final do filme, pode ser então dada pelo produto $X ⋅ \\theta^T$\n",
    "\n",
    "Embora não tenhamos os valores de $X$ e $\\theta$ estes valores podem ser obtidos através do nosso dataset seguindo os seguintes passos:\n",
    "\n",
    "1. Iniciamos $X$ com valores randômicos.\n",
    "2. A partir daí temos um problema de otimização, onde o nosso objetivo é encontrar os valores de $\\theta$ que minimizem a diferença entre a nota do filme $f$ dado pelo usuário $u$ pelo produto $ X_u \\cdot \\theta_f^T $.\n",
    "3. Repetimos o procedimento 2, porém com o objetivo de encontrar os novos valores de $X$ utilizando os valores de $\\theta$ encontrados. \n",
    "4. Repetimos os procedimentos 2 e 3, até encontrarmos valores estáveis de $\\theta$ e $X$ ou por um número pré determinado de iterações."
   ]
  },
  {
   "cell_type": "code",
   "execution_count": 9,
   "metadata": {},
   "outputs": [],
   "source": [
    "# http://www.bogotobogo.com/python/python_numpy_batch_gradient_descent_algorithm.php\n",
    "def gradient_descent(x, y, alpha=0.01, nr_iterations=NR_ITERATIONS):\n",
    "\n",
    "    # m - number of samples\n",
    "    # n - number features\n",
    "    m, n = x.shape\n",
    "\n",
    "    # insert column theta_zero = 1\n",
    "    x = np.c_[ np.ones(m), x]\n",
    "\n",
    "    theta = np.ones(n + 1)\n",
    "    x_transpose = x.transpose()\n",
    "\n",
    "    for iter in range(0, nr_iterations):\n",
    "        hypothesis = np.dot(x, theta)\n",
    "        loss = hypothesis - y\n",
    "        J = np.sum(loss ** 2) / (2 * m)\n",
    "        gradient = np.dot(x_transpose, loss) / m         \n",
    "        theta = theta - alpha * gradient\n",
    "\n",
    "    return theta"
   ]
  },
  {
   "cell_type": "code",
   "execution_count": 10,
   "metadata": {},
   "outputs": [
    {
     "name": "stdout",
     "output_type": "stream",
     "text": [
      "Progress: 100%\n"
     ]
    }
   ],
   "source": [
    "users_preferences = [\n",
    "    [rand(), rand()],\n",
    "    [rand(), rand()],\n",
    "    [rand(), rand()],\n",
    "    [rand(), rand()],\n",
    "]\n",
    "\n",
    "movies_characteristics = [\n",
    "    [None, None],\n",
    "    [None, None],\n",
    "    [None, None],\n",
    "    [None, None],\n",
    "]\n",
    "\n",
    "ratings = [\n",
    "    [5, 4, 0, 0],\n",
    "    [3, 5, 0, 0],\n",
    "    [0, 0, 4, 5],\n",
    "    [0, 0, 5, 4],\n",
    "]\n",
    "\n",
    "ratings_t = np.transpose(ratings).tolist()\n",
    "\n",
    "nr_users = len(users_preferences)\n",
    "nr_movies = len(movies_characteristics)\n",
    "\n",
    "i = 0\n",
    "while i <= 100:\n",
    "    clear_output(wait=True)\n",
    "    print('Progress: {}%'.format(i))\n",
    "    i += 1\n",
    "\n",
    "    for movie in range(nr_movies):\n",
    "        x = np.array(\n",
    "            users_preferences\n",
    "        )\n",
    "\n",
    "        y = np.array(\n",
    "            ratings[movie]\n",
    "        )\n",
    "\n",
    "        movies_characteristics[movie] = gradient_descent(x, y)[1:]\n",
    "\n",
    "\n",
    "    for user in range(nr_users):\n",
    "        x = np.array(\n",
    "            movies_characteristics\n",
    "        )\n",
    "\n",
    "        y = np.array(\n",
    "            ratings_t[user]\n",
    "        )\n",
    "\n",
    "        users_preferences[user] = gradient_descent(x, y)[1:]"
   ]
  },
  {
   "cell_type": "markdown",
   "metadata": {},
   "source": [
    "Preferências dos usuários"
   ]
  },
  {
   "cell_type": "code",
   "execution_count": 11,
   "metadata": {},
   "outputs": [
    {
     "data": {
      "text/plain": [
       "[array([ 0.99022932,  0.99022932]),\n",
       " array([ 0.99269872,  0.99269872]),\n",
       " array([ 0.9927303,  0.9927303]),\n",
       " array([ 0.9927303,  0.9927303])]"
      ]
     },
     "execution_count": 11,
     "metadata": {},
     "output_type": "execute_result"
    }
   ],
   "source": [
    "users_preferences"
   ]
  },
  {
   "cell_type": "markdown",
   "metadata": {},
   "source": [
    "Características dos filmes"
   ]
  },
  {
   "cell_type": "code",
   "execution_count": 12,
   "metadata": {},
   "outputs": [
    {
     "data": {
      "text/plain": [
       "[array([ 0.99269872,  0.99269872]),\n",
       " array([ 0.99022932,  0.99022932]),\n",
       " array([ 0.9927303,  0.9927303]),\n",
       " array([ 0.9927303,  0.9927303])]"
      ]
     },
     "execution_count": 12,
     "metadata": {},
     "output_type": "execute_result"
    }
   ],
   "source": [
    "movies_characteristics"
   ]
  },
  {
   "cell_type": "markdown",
   "metadata": {},
   "source": [
    "Com os valores de $X$ e $\\theta$ em mãos, podemos então prever os votos dos usuários através do produto $X ⋅ \\theta^T$"
   ]
  },
  {
   "cell_type": "code",
   "execution_count": 13,
   "metadata": {},
   "outputs": [
    {
     "data": {
      "text/plain": [
       "array([[ 4.,  4.,  4.,  4.],\n",
       "       [ 4.,  4.,  4.,  4.],\n",
       "       [ 4.,  4.,  4.,  4.],\n",
       "       [ 4.,  4.,  4.,  4.]])"
      ]
     },
     "execution_count": 13,
     "metadata": {},
     "output_type": "execute_result"
    }
   ],
   "source": [
    "np.rint(np.dot(users_preferences, np.transpose(movies_characteristics))) + 2"
   ]
  },
  {
   "cell_type": "markdown",
   "metadata": {},
   "source": [
    "# Adaptação\n",
    "\n",
    "O conceito acima citado, foi estudado e então adaptado ao nosso problema. Primeiramente foram identificadas as características de cada problema, assim como identificamos as características dos filmes. Então identificamos as características do usuário, e assim então poderemos encontrar o problema mais adequado ao treinamento do usuário.\n",
    "\n",
    "## As características do problema\n",
    "\n",
    "No processo de adaptação, as características dos filmes foram definidas como **requisitos** do problema. Ou seja, aquilo que deve ser de conhecimento para que um usuário possa resolver o problema.\n",
    "\n",
    "Da mesma forma, as preferências do usuário foram definidas com **habilidades**, ou seja, aquilo que é de conhecimento do usuário e o habilita a solucionar problemas que tenha seus requisitos contidos em suas habilidades.\n",
    "\n",
    "Se um usuário $U_i$ consegue resolver um problema $P_j$, podemos assumir que o usuário $U_i$ tem habilidades suficientes para suprir os requisitos necessários para a solução do problema $P_j$.\n",
    "\n",
    "A partir dessas premissas iremos identificar quais são os requisitos dos problemas baseado nos histórico de soluções de nosso dataset.\n",
    "\n",
    "Para isso, iremos realizar o seguinte procedimento para cada um dos problemas em nosso dataset:\n",
    "\n",
    "Encontrar todos os usuários que resolveram o problema P:"
   ]
  },
  {
   "cell_type": "code",
   "execution_count": 14,
   "metadata": {},
   "outputs": [],
   "source": [
    "def get_problems(solutions_df):\n",
    "    problems = set(solutions_df['problem_id'])\n",
    "\n",
    "    return list(problems)\n",
    "\n",
    "def get_users_that_solved_the_problem(solutions_df, problem_id):\n",
    "    solutions_of_the_problem_df = solutions_df[solutions_df['problem_id'] == problem_id]\n",
    "    users = solutions_of_the_problem_df['user_id']\n",
    "    \n",
    "    return list(users)"
   ]
  },
  {
   "cell_type": "markdown",
   "metadata": {},
   "source": [
    "Para cada usuário, iremos buscar todos os problemas que foram solucionados antes do problema P"
   ]
  },
  {
   "cell_type": "code",
   "execution_count": 15,
   "metadata": {},
   "outputs": [],
   "source": [
    "def get_date_when_user_solved_the_problem(solutions_df, user_id, problem_id):\n",
    "    solution = solutions_df[(solutions_df['problem_id'] == problem_id) & (solutions_df['user_id'] == user_id)]\n",
    "    solution_date = solution['date'].values[0]\n",
    "\n",
    "    return solution_date\n",
    "\n",
    "def get_past_problems(solutions_df, user_id, problem_id):\n",
    "    solution_date = get_date_when_user_solved_the_problem(solutions_df, user_id, problem_id)\n",
    "    past_solutions = solutions_df[(solutions_df['date'] < solution_date) & (solutions_df['user_id'] == user_id)]\n",
    "    problems = past_solutions['problem_id']\n",
    "\n",
    "    return list(problems)"
   ]
  },
  {
   "cell_type": "markdown",
   "metadata": {},
   "source": [
    "Iremos então criar uma matriz $M$. Onde cada linha corresponde a um problema $P_i$ solucionado antes do problema $P$, e cada coluna corresponde a um usuário $U_j$ que em algum momento resolveu o problema $P$.\n",
    "\n",
    "Se o problema $P_i$ foi resolvido pelo usuário $U_j$ temos que $M_{i,j} = 1$, caso contrário $M_{i,j} = 0$."
   ]
  },
  {
   "cell_type": "code",
   "execution_count": 16,
   "metadata": {},
   "outputs": [],
   "source": [
    "def optimize_matrix(matrix):\n",
    "    matrix = matrix[~np.all(matrix == 0., axis=1)]\n",
    "    \n",
    "    return matrix\n",
    "\n",
    "def get_solution_matrix(solutions_df, problem):\n",
    "    users = get_users_that_solved_the_problem(solutions_df, problem)\n",
    "\n",
    "    solutions = []\n",
    "    min_problem = float('inf')\n",
    "    max_problem = float('-inf')\n",
    "\n",
    "    for user in users:\n",
    "        past_problems = get_past_problems(solutions_df, user, problem)\n",
    "\n",
    "        solutions.append(past_problems)\n",
    "\n",
    "        min_problem = min([min_problem] + past_problems)\n",
    "        max_problem = max([max_problem] + past_problems)\n",
    "\n",
    "    nr_problems = max_problem - min_problem + 1\n",
    "    nr_users = len(users)\n",
    "    matrix = np.zeros((nr_problems, nr_users))\n",
    "\n",
    "    for user in range(nr_users):\n",
    "        for problem in solutions[user]:\n",
    "            problem_index = problem - min_problem\n",
    "            matrix[problem_index][user] = 1\n",
    "            \n",
    "    return optimize_matrix(matrix)"
   ]
  },
  {
   "cell_type": "markdown",
   "metadata": {},
   "source": [
    "Com a matriz $M$, podemos executar o nosso algoritmo de otimização e então obter os valores de $X$ e $\\theta$.\n",
    "\n",
    "Nessa situação, podemos fazer a seguinte leitura:\n",
    "\n",
    "> $X_{i}$ representa os requisitos do problema $P_i$ enquanto que $\\theta_j$ representa as habilidades do usuário $U_j$.\n",
    "\n",
    "Como anteriormente discutido, acreditamos que todos os problemas resolvidos antes de $P$ por um usuário $U$, contribuem para o desenvolvimento de suas habilidades, desta forma podemos concluir que o conjunto de habilidades $\\theta$ ou o conjunto de requisitos $X$ formam as características do problema $P$.\n",
    "\n",
    "Atribuímos então a $\\theta_P$ a média de $\\theta$.\n",
    "\n"
   ]
  },
  {
   "cell_type": "code",
   "execution_count": 17,
   "metadata": {},
   "outputs": [],
   "source": [
    "def get_theta_of_problem(matrix):\n",
    "    nr_problems, nr_users = matrix.shape\n",
    "\n",
    "    theta_users = np.random.rand(nr_users, NR_FEATURES)\n",
    "    theta_problems = np.zeros((nr_problems, NR_FEATURES))\n",
    "\n",
    "    matrix_t = np.transpose(matrix)\n",
    "\n",
    "    i = 0\n",
    "    while i <= NR_EPOCHS:\n",
    "        clear_output(wait=True)\n",
    "        print('Progress: {}%'.format(100 * i/NR_EPOCHS))\n",
    "        i += 1\n",
    "\n",
    "        for problem in range(nr_problems):\n",
    "            x = np.array(\n",
    "                theta_users\n",
    "            )\n",
    "\n",
    "            y = np.array(\n",
    "                matrix[problem]\n",
    "            )\n",
    "\n",
    "            theta_problems[problem] = gradient_descent(x, y)[1:]\n",
    "\n",
    "        for user in range(nr_users):\n",
    "            x = np.array(\n",
    "                theta_problems\n",
    "            )\n",
    "\n",
    "            y = np.array(\n",
    "                matrix_t[user]\n",
    "            )\n",
    "\n",
    "            theta_users[user] = gradient_descent(x, y)[1:]\n",
    "    \n",
    "    return theta_problems.mean(axis=0)"
   ]
  },
  {
   "cell_type": "markdown",
   "metadata": {},
   "source": [
    "## As características do usuário\n",
    "\n",
    "Com as características dos problemas do nosso dataset já definidas, podemos então encontrar as características do nosso usuário. Para isso, iremos construir a mesma matriz $M$, porém utilizando todo o histórico do usuário em questão."
   ]
  },
  {
   "cell_type": "code",
   "execution_count": 18,
   "metadata": {},
   "outputs": [],
   "source": [
    "def get_theta_of_user(problems_solved, thetas_solved):\n",
    "    \n",
    "    if not problems_solved:\n",
    "        return np.zeros(NR_FEATURES)\n",
    "\n",
    "    nr_problems = len(problems_solved)\n",
    "    \n",
    "    y = np.ones(nr_problems)\n",
    "    x = np.array(list(thetas_solved.values()))\n",
    "\n",
    "    thetas = [thetas_solved[t] for t in thetas_solved]    \n",
    "    theta_of_user = np.max(thetas, axis=0)\n",
    "\n",
    "    return theta_of_user"
   ]
  },
  {
   "cell_type": "markdown",
   "metadata": {},
   "source": [
    "## Recomendação\n",
    "\n",
    "Neste momento, temos para cada problema do nosso dataset suas características, e para cada usuário a capacidade de calcular suas habilidades baseado em seu histórico. Com isso, podemos então encontrar o melhor problema para o seu treinamento.\n",
    "\n",
    "A recomendação é feita da seguinte forma:\n",
    "\n",
    "- É retirado todos os problemas que possuem todos os requisitos inferiores as habilidades do usuário.\n",
    "- É selecionado então o problema mais próximo a habilidade do usuário\n",
    "- A distância é calculada através da distância do vetor de habilidades e o vetor de requisitos."
   ]
  },
  {
   "cell_type": "code",
   "execution_count": 19,
   "metadata": {},
   "outputs": [],
   "source": [
    "def find_closest_problem(theta_user, theta_problems):\n",
    "    problems = [problem for problem in theta_problems if (theta_problems[problem] > theta_user).all()]\n",
    "    points = [theta_problems[problem] for problem in problems]\n",
    "    \n",
    "    if not points:\n",
    "        return None\n",
    "    \n",
    "    tree = spatial.KDTree(points)\n",
    "    distance, index = tree.query(theta_user)\n",
    "    \n",
    "    return problems[index]\n",
    "    \n",
    "def get_next_problem(problems_solved, thetas):\n",
    "    thetas_solved = {}\n",
    "    thetas_not_solved = {}\n",
    "    \n",
    "    for problem in problems_solved:\n",
    "        thetas_solved[problem] = thetas[problem]\n",
    "    \n",
    "    for theta in thetas:\n",
    "        if theta not in problems_solved:\n",
    "            thetas_not_solved[theta] = thetas[theta]\n",
    "            \n",
    "    if not thetas_not_solved:\n",
    "        return None\n",
    "    \n",
    "    theta_user = get_theta_of_user(problems_solved, thetas_solved)\n",
    "    problem = find_closest_problem(theta_user, thetas_not_solved)\n",
    "    \n",
    "    return problem\n"
   ]
  },
  {
   "cell_type": "code",
   "execution_count": 20,
   "metadata": {},
   "outputs": [],
   "source": [
    "def get_thetas(solutions_df):\n",
    "    thetas = {}\n",
    "\n",
    "    for problem in get_problems(solutions_df):\n",
    "        matrix = get_solution_matrix(solutions_df, problem)\n",
    "        theta = get_theta_of_problem(matrix)\n",
    "        thetas[problem] = theta\n",
    "\n",
    "    return thetas"
   ]
  },
  {
   "cell_type": "code",
   "execution_count": 21,
   "metadata": {},
   "outputs": [],
   "source": [
    "def simulate_user(thetas):\n",
    "    problems_solved = []\n",
    "    while True:\n",
    "        next_problem = get_next_problem(problems_solved, thetas)\n",
    "\n",
    "        if not next_problem:\n",
    "            break\n",
    "\n",
    "        problems_solved.append(next_problem)\n",
    "        \n",
    "    return problems_solved"
   ]
  },
  {
   "cell_type": "code",
   "execution_count": 22,
   "metadata": {
    "scrolled": false
   },
   "outputs": [],
   "source": [
    "# refactor\n",
    "def add_theta_to_dataset():\n",
    "    problems_df = pd.read_csv('problems_uva.csv')\n",
    "    problems_df = problems_df[problems_df['problem_id'].isin(problems_solved)]\n",
    "\n",
    "    # add theta column\n",
    "    for problem_id in problems_solved:\n",
    "        problems_df.loc[problems_df['problem_id'] == problem_id, 'theta'] = thetas[problem_id].sum()\n",
    "\n",
    "    problems_df = problems_df.sort_values([\"theta\"])\n",
    "\n",
    "    problems_df"
   ]
  },
  {
   "cell_type": "code",
   "execution_count": 23,
   "metadata": {},
   "outputs": [],
   "source": [
    "def save_result(problems_solved):\n",
    "    problems_uva_df = pd.read_csv('problems_uva.csv')\n",
    "    problems_uva_df = problems_uva_df[problems_uva_df['category_id'] == CATEGORY]\n",
    "    problems_suggested_df = problems_uva_df[problems_uva_df['problem_id'].isin(problems_solved)]\n",
    "\n",
    "    result = {\n",
    "        'nr_problems': len(problems_uva_df),\n",
    "        'nr_problems_not_starred': len(problems_uva_df[problems_uva_df['starred'] == False]),\n",
    "        'nr_problems_starred': len(problems_uva_df[problems_uva_df['starred'] == True]),\n",
    "\n",
    "        'nr_problems_suggested': len(problems_solved),\n",
    "        'nr_problems_suggested_not_starred': len(problems_suggested_df[problems_suggested_df['starred'] == False]),\n",
    "        'nr_problems_suggested_starred': len(problems_suggested_df[problems_suggested_df['starred'] == True]),\n",
    "\n",
    "        'problems_suggested': problems_solved,\n",
    "        'category': CATEGORY,\n",
    "        'features': NR_FEATURES,\n",
    "        'epochs': NR_EPOCHS,\n",
    "        'iterations': NR_ITERATIONS,\n",
    "    }\n",
    "\n",
    "    filename = 'results/C{}-F{}-{}E-{}I.npy'.format(CATEGORY, NR_FEATURES, NR_EPOCHS, NR_ITERATIONS)\n",
    "    np.save(filename, result)\n",
    "    \n",
    "    problems_suggested_df"
   ]
  },
  {
   "cell_type": "code",
   "execution_count": null,
   "metadata": {},
   "outputs": [],
   "source": [
    "def load_result(filename):\n",
    "    data = np.load(filename).item()\n",
    "    return data"
   ]
  },
  {
   "cell_type": "code",
   "execution_count": null,
   "metadata": {},
   "outputs": [
    {
     "name": "stdout",
     "output_type": "stream",
     "text": [
      "Progress: 100.0%\n"
     ]
    }
   ],
   "source": [
    "for i in range(1, 9): # category\n",
    "    for j in range(100, 600, 100): # nr_iterations\n",
    "        for k in range(1, 20): # epochs\n",
    "            for l in range(1, 20): #features\n",
    "                NR_FEATURES = l\n",
    "                NR_EPOCHS = k\n",
    "                NR_ITERATIONS = j\n",
    "                CATEGORY = 7 # i\n",
    "                \n",
    "                solutions_df = read_dataset()\n",
    "                thetas = get_thetas(solutions_df)\n",
    "                problems_solved = simulate_user(thetas)\n",
    "                save_result(problems_solved)"
   ]
  },
  {
   "cell_type": "code",
   "execution_count": null,
   "metadata": {},
   "outputs": [],
   "source": [
    "#desenvolver gráfico com level, solucoes, id, submissoes\n",
    "#verificar se a sequencia com 10 epocas esta dentro das sugestoes com 16 epocas (4,8,16,32)"
   ]
  }
 ],
 "metadata": {
  "kernelspec": {
   "display_name": "Python 3",
   "language": "python",
   "name": "python3"
  },
  "language_info": {
   "codemirror_mode": {
    "name": "ipython",
    "version": 3
   },
   "file_extension": ".py",
   "mimetype": "text/x-python",
   "name": "python",
   "nbconvert_exporter": "python",
   "pygments_lexer": "ipython3",
   "version": "3.6.3"
  }
 },
 "nbformat": 4,
 "nbformat_minor": 2
}
